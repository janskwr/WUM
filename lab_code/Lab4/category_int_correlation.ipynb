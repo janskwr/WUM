{
 "cells": [
  {
   "attachments": {
    "image-2.png": {
     "image/png": "[encoded data removed]"
    },
    "image-3.png": {
     "image/png": "[encoded data removed]"
    },
    "image.png": {
     "image/png": "[encoded data removed]"
    }
   },
   "cell_type": "markdown",
   "metadata": {},
   "source": [
    "# Korelacja\n",
    "$$\\overline{x}=\\frac{1}{n}\\sum_{i=1}^{n}{x_i},\\space\\overline{y}=\\frac{1}{n}\\sum_{i=1}^{n}{y_i}$$  \n",
    "\n",
    "## współczynnik korelacji liniowej Pearsona\n",
    "\n",
    "$$r_{xy}=\\frac{\\sum_{i=1}^{n}(x_i-\\overline{x})(y_i-\\overline{y})}{\\sqrt{\\sum_{i=1}^{n}(x_i-\\overline{x})^2}\\sqrt{\\sum_{i=1}^{n}(y_i-\\overline{y})^2}}$$\n",
    "\n",
    "$$r_{XY}=\\frac{\\text{cov}(X,Y)}{\\sigma_X\\sigma_Y}$$\n",
    "\n",
    "## współczynnik korelacji rangowej Spearmana\n",
    "$RX$, $RY$ rangi zmiennych $X$ i $Y$\n",
    "\n",
    "$$\\rho=\\frac{\\text{cov}(RX,RY)}{\\sqrt{\\text{var}(RX)\\text{var}(RY)}}$$\n",
    "\n",
    "$$\\rho=1-\\frac{6\\sum_{i=1}^{n}d_{i}^{2}}{n(n^2-1)}$$\n",
    "\n",
    "gdzie $$d_i=R(x)_{i}-R(y)_i, \\space \\space i=1,\\ldots,n$$ oraz $R(x)_i$ oznacza rangę $i$-tej obserwacji z $X$\n",
    "\n",
    "## korelacja Pearsona vs korelacja Spearmana\n",
    "\n",
    "korelacja Pearsona = korelacja Spearmana = 1\n",
    "\n",
    "![image.png](attachment:image.png)\n",
    "\n",
    "korelacja Pearsona = korelacja Spearmana = -1\n",
    "\n",
    "![image-3.png](attachment:image-3.png)\n",
    "\n",
    "korelacja Pearsona < korelacja Spearmana = 1\n",
    "\n",
    "![image-2.png](attachment:image-2.png)"
   ]
  },
  {
   "cell_type": "code",
   "execution_count": 1,
   "metadata": {},
   "outputs": [],
   "source": [
    "import numpy as np\n",
    "import pandas as pd\n",
    "np.random.seed(1)"
   ]
  },
  {
   "cell_type": "code",
   "execution_count": 2,
   "metadata": {},
   "outputs": [],
   "source": [
    "numeric=np.random.normal(size=100)"
   ]
  },
  {
   "cell_type": "code",
   "execution_count": 3,
   "metadata": {},
   "outputs": [],
   "source": [
    "category=np.random.choice(['Ania', 'Kasia', 'Tomek'], size=100)"
   ]
  },
  {
   "cell_type": "code",
   "execution_count": 4,
   "metadata": {},
   "outputs": [],
   "source": [
    "dict1={\"Ania\":1, \"Kasia\": 2, \"Tomek\":3}"
   ]
  },
  {
   "cell_type": "code",
   "execution_count": 5,
   "metadata": {},
   "outputs": [
    {
     "name": "stdout",
     "output_type": "stream",
     "text": [
      "pearson 0.0831\n",
      "spearman 0.0809\n"
     ]
    }
   ],
   "source": [
    "np.corrcoef(pd.Series(category).map(dict1), numeric)[0,1]\n",
    "\n",
    "print(\"pearson %1.4f\" % pd.Series(numeric).corr(pd.Series(category).map(dict1), method=\"pearson\"))\n",
    "print(\"spearman %1.4f\" % pd.Series(numeric).corr(pd.Series(category).map(dict1), method=\"spearman\"))"
   ]
  },
  {
   "cell_type": "code",
   "execution_count": 6,
   "metadata": {},
   "outputs": [],
   "source": [
    "#przeskalowanie wartości\n",
    "dict1={\"Ania\":10, \"Kasia\": 20, \"Tomek\":30}"
   ]
  },
  {
   "cell_type": "code",
   "execution_count": 7,
   "metadata": {},
   "outputs": [
    {
     "name": "stdout",
     "output_type": "stream",
     "text": [
      "pearson 0.0831\n",
      "spearman 0.0809\n"
     ]
    }
   ],
   "source": [
    "np.corrcoef(pd.Series(category).map(dict1), numeric)[0,1]\n",
    "print(\"pearson %1.4f\" % pd.Series(numeric).corr(pd.Series(category).map(dict1), method=\"pearson\"))\n",
    "print(\"spearman %1.4f\" % pd.Series(numeric).corr(pd.Series(category).map(dict1), method=\"spearman\"))"
   ]
  },
  {
   "cell_type": "code",
   "execution_count": 8,
   "metadata": {},
   "outputs": [
    {
     "name": "stdout",
     "output_type": "stream",
     "text": [
      "pearson -0.0831\n",
      "spearman -0.0809\n"
     ]
    }
   ],
   "source": [
    "# zamiana kolejności na odwrotną  -- analogia do zmiennej binarnej\n",
    "dict1={\"Ania\":3, \"Kasia\": 2, \"Tomek\":1}\n",
    "np.corrcoef(pd.Series(category).map(dict1), numeric)[0,1]\n",
    "print(\"pearson %1.4f\" % pd.Series(numeric).corr(pd.Series(category).map(dict1), method=\"pearson\"))\n",
    "print(\"spearman %1.4f\" % pd.Series(numeric).corr(pd.Series(category).map(dict1), method=\"spearman\"))"
   ]
  },
  {
   "cell_type": "code",
   "execution_count": 9,
   "metadata": {},
   "outputs": [
    {
     "name": "stdout",
     "output_type": "stream",
     "text": [
      "pearson -0.1984\n",
      "spearman -0.1913\n"
     ]
    }
   ],
   "source": [
    "# zamiana kolejności\n",
    "dict1={\"Ania\":3, \"Kasia\": 1, \"Tomek\":2}\n",
    "np.corrcoef(pd.Series(category).map(dict1), numeric)[0,1]\n",
    "print(\"pearson %1.4f\" % pd.Series(numeric).corr(pd.Series(category).map(dict1), method=\"pearson\"))\n",
    "print(\"spearman %1.4f\" % pd.Series(numeric).corr(pd.Series(category).map(dict1), method=\"spearman\"))"
   ]
  },
  {
   "cell_type": "code",
   "execution_count": 10,
   "metadata": {},
   "outputs": [
    {
     "name": "stdout",
     "output_type": "stream",
     "text": [
      "pearson -0.1063\n",
      "spearman -0.0970\n"
     ]
    }
   ],
   "source": [
    "# zamiana kolejności\n",
    "dict1={\"Ania\":2, \"Kasia\": 1, \"Tomek\":3}\n",
    "np.corrcoef(pd.Series(category).map(dict1), numeric)[0,1]\n",
    "print(\"pearson %1.4f\" % pd.Series(numeric).corr(pd.Series(category).map(dict1), method=\"pearson\"))\n",
    "print(\"spearman %1.4f\" % pd.Series(numeric).corr(pd.Series(category).map(dict1), method=\"spearman\"))"
   ]
  },
  {
   "cell_type": "code",
   "execution_count": 11,
   "metadata": {},
   "outputs": [
    {
     "name": "stdout",
     "output_type": "stream",
     "text": [
      "pearson 0.1063\n",
      "spearman 0.0970\n"
     ]
    }
   ],
   "source": [
    "# zamiana kolejności\n",
    "dict1={\"Ania\":2, \"Kasia\": 3, \"Tomek\":1}\n",
    "np.corrcoef(pd.Series(category).map(dict1), numeric)[0,1]\n",
    "print(\"pearson %1.4f\" % pd.Series(numeric).corr(pd.Series(category).map(dict1), method=\"pearson\"))\n",
    "print(\"spearman %1.4f\" % pd.Series(numeric).corr(pd.Series(category).map(dict1), method=\"spearman\"))"
   ]
  },
  {
   "cell_type": "code",
   "execution_count": null,
   "metadata": {},
   "outputs": [],
   "source": []
  }
 ],
 "metadata": {
  "kernelspec": {
   "display_name": "Python 3",
   "language": "python",
   "name": "python3"
  },
  "language_info": {
   "codemirror_mode": {
    "name": "ipython",
    "version": 3
   },
   "file_extension": ".py",
   "mimetype": "text/x-python",
   "name": "python",
   "nbconvert_exporter": "python",
   "pygments_lexer": "ipython3",
   "version": "3.8.12"
  }
 },
 "nbformat": 4,
 "nbformat_minor": 2
}
