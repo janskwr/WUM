{
 "cells": [
  {
   "cell_type": "markdown",
   "metadata": {},
   "source": [
    "# Przewidywanie bankructwa firm\n",
    "\n",
    "Dominik Kędzierski, Krzysztof Wodnicki\n",
    "\n",
    "[Zbiór danych](https://www.kaggle.com/datasets/fedesoriano/company-bankruptcy-prediction?resource=download)"
   ]
  },
  {
   "cell_type": "markdown",
   "metadata": {},
   "source": [
    "## Import niezbędnych pakietów oraz zbioru danych"
   ]
  },
  {
   "cell_type": "code",
   "execution_count": 1,
   "metadata": {},
   "outputs": [],
   "source": [
    "import pandas as pd\n",
    "import numpy as np\n",
    "import matplotlib.pyplot as plt\n",
    "from sklearn.model_selection import train_test_split\n",
    "\n",
    "from sklearn.base import BaseEstimator, TransformerMixin\n",
    "from scipy.stats import spearmanr\n",
    "from sklearn.preprocessing import MinMaxScaler\n",
    "from sklearn.pipeline import Pipeline\n",
    "\n",
    "from sklearn.model_selection import GridSearchCV\n",
    "from sklearn.model_selection import RandomizedSearchCV\n",
    "\n",
    "from warnings import filterwarnings\n",
    "from scipy.stats import randint, expon\n",
    "\n",
    "from sklearn.tree import DecisionTreeClassifier\n",
    "from sklearn.ensemble import RandomForestClassifier\n",
    "from sklearn.svm import SVC\n",
    "\n",
    "from sklearn.metrics import accuracy_score\n",
    "from sklearn.metrics import recall_score\n",
    "from sklearn.metrics import precision_score\n",
    "\n",
    "%matplotlib inline\n",
    "filterwarnings('ignore')"
   ]
  },
  {
   "cell_type": "code",
   "execution_count": 8,
   "metadata": {},
   "outputs": [],
   "source": [
    "df = pd.read_csv(\"data.csv\")"
   ]
  },
  {
   "cell_type": "markdown",
   "metadata": {},
   "source": [
    "Z poprzedniej pracy domowej wiemy, że kolkumny `Liability-Assets Flag` i `Net Income Flag` nie wnoszą za dużo do naszego modelu, dlatego się ich pozbędziemy."
   ]
  },
  {
   "cell_type": "code",
   "execution_count": 9,
   "metadata": {},
   "outputs": [],
   "source": [
    "df = df.drop(\" Liability-Assets Flag\", axis = 1)\n",
    "df = df.drop(\" Net Income Flag\", axis = 1)"
   ]
  },
  {
   "cell_type": "markdown",
   "metadata": {},
   "source": [
    "### Podział zbioru danych"
   ]
  },
  {
   "cell_type": "code",
   "execution_count": 10,
   "metadata": {},
   "outputs": [],
   "source": [
    "y = np.array(df[\"Bankrupt?\"])\n",
    "X = df.drop([\"Bankrupt?\"], axis = 1)\n",
    "\n",
    "X_build, X_val, y_build, y_val = train_test_split(\n",
    "    X, y, stratify=y, test_size=0.3, random_state=1\n",
    ")\n",
    "\n",
    "X_train, X_test, y_train, y_test = train_test_split(\n",
    "    X_build, y_build, stratify=y_build, test_size=0.3, random_state=2\n",
    ")"
   ]
  },
  {
   "cell_type": "code",
   "execution_count": 11,
   "metadata": {},
   "outputs": [],
   "source": [
    "df_val = X_val.copy()\n",
    "df_val[\"Bankrupt?\"] = y_val.copy()\n",
    "df_val.to_csv(\"data_val.csv\")\n",
    "\n",
    "df_train = X_train.copy()\n",
    "df_train[\"Bankrupt?\"] = y_train.copy()\n",
    "df_train.to_csv(\"data_train.csv\")\n",
    "\n",
    "df_test = X_test.copy()\n",
    "df_test[\"Bankrupt?\"] = y_test.copy()\n",
    "df_test.to_csv(\"data_test.csv\")"
   ]
  },
  {
   "cell_type": "markdown",
   "metadata": {},
   "source": [
    "## Preprocessing\n",
    "\n",
    "Wykonujemy podobny preprocessing jak przy poprzedniej pracy domowej:\n",
    "- zastąpienie wartości odstających (2.5%, 97.5%)\n",
    "- zmiana kierunku zeminnych ujemnie skorelowanych ze zmienną celu\n",
    "- normalizacja (min-max)"
   ]
  },
  {
   "cell_type": "code",
   "execution_count": 15,
   "metadata": {},
   "outputs": [],
   "source": [
    "class Outliers(BaseEstimator, TransformerMixin):\n",
    "    def __init__(self):\n",
    "        pass\n",
    "    \n",
    "    def fit(self, X):\n",
    "        self.max = {}\n",
    "        self.min = {}\n",
    "        for col in X.columns:\n",
    "            self.max[col] = X[col].quantile(0.975)\n",
    "            self.min[col] = X[col].quantile(0.025)\n",
    "        return self\n",
    "    \n",
    "    def transform(self, X):\n",
    "        for col in X.columns:\n",
    "            if col != 'Bankrupt?':\n",
    "                X[col] = np.where(X[col] < self.max[col], X[col], self.max[col])\n",
    "                X[col] = np.where(X[col] > self.min[col], X[col], self.min[col])\n",
    "        \n",
    "        return X"
   ]
  },
  {
   "cell_type": "code",
   "execution_count": 16,
   "metadata": {},
   "outputs": [],
   "source": [
    "class Direction(BaseEstimator, TransformerMixin):\n",
    "    def __init__(self):\n",
    "        pass\n",
    "    \n",
    "    def fit(self, X):\n",
    "        self.reverse = set()\n",
    "        tmp_y = X['Bankrupt?']\n",
    "        for col in X.columns:\n",
    "            if spearmanr(X[col], tmp_y)[0] < 0:\n",
    "                    self.reverse.add(col)\n",
    "        return self\n",
    "    \n",
    "    def transform(self, X):\n",
    "        for col in X.columns:\n",
    "            if col in self.reverse:\n",
    "                X[col] = -X[col]\n",
    "        return X"
   ]
  },
  {
   "cell_type": "code",
   "execution_count": 17,
   "metadata": {},
   "outputs": [],
   "source": [
    "class Normalization(BaseEstimator, TransformerMixin):\n",
    "    def __init__(self):\n",
    "        pass\n",
    "    \n",
    "    def fit(self, X):\n",
    "        self.minmaxscaler = MinMaxScaler().fit(X)\n",
    "        return self\n",
    "    \n",
    "    def transform(self, X):\n",
    "        X[X.columns] = MinMaxScaler().fit_transform(X)\n",
    "        return X"
   ]
  },
  {
   "cell_type": "code",
   "execution_count": 18,
   "metadata": {},
   "outputs": [],
   "source": [
    "preprocessing = Pipeline([\n",
    "    ('outliers', Outliers()),\n",
    "    ('direction', Direction()),\n",
    "    ('normalization', Normalization())\n",
    "])"
   ]
  },
  {
   "cell_type": "code",
   "execution_count": 19,
   "metadata": {
    "scrolled": true
   },
   "outputs": [],
   "source": [
    "df_train = pd.read_csv('data_train.csv', index_col=0)\n",
    "df_train = preprocessing.fit_transform(df_train)\n",
    "\n",
    "y_train = df_train['Bankrupt?']\n",
    "X_train = df_train.drop('Bankrupt?', axis=1)"
   ]
  },
  {
   "cell_type": "markdown",
   "metadata": {},
   "source": [
    "## Modele\n",
    "\n",
    "Ze względu na mały udział bankrutów w naszym zbiorze danych, wybierając model, prawdopodobnie nie uda nam się stworzyć modelu, który będzie mieć na raz wysokie `accuracy`, `recall` i `precision`. Jednak w naszym problemie najważniejsze jest dla nas znalezienie wszytskich bankrutów (jeżeli zainwestujemy w firmę która zaraz zbankrutuje to prawdopodobnie stracimy więcej niż jeśli nie zainwestujemy wcale), dlatego priorytetem będzie uzyskanie jak najwyższej wartości `recall`."
   ]
  },
  {
   "cell_type": "markdown",
   "metadata": {},
   "source": [
    "### Decision Tree"
   ]
  },
  {
   "cell_type": "code",
   "execution_count": 22,
   "metadata": {},
   "outputs": [],
   "source": [
    "dtc_clf = DecisionTreeClassifier(random_state=0)\n",
    "\n",
    "dtc_gs_params = {\n",
    "    'max_depth' : [5, 80, 150],\n",
    "    'min_samples_leaf' : [1, 5, 25],\n",
    "    'class_weight' : ['balanced', None],\n",
    "    'max_features' : ['auto', 'sqrt', 'log2']\n",
    "}\n",
    "\n",
    "dtc_gs = GridSearchCV(estimator = dtc_clf,\n",
    "                     param_grid = dtc_gs_params,\n",
    "                     scoring = ['accuracy', 'precision', 'recall'],\n",
    "                     refit = 'recall',\n",
    "                     cv = 5,\n",
    "                     verbose = 0)\n",
    "\n",
    "dtc_rs_params = {\n",
    "    'max_depth' : randint(3, 200),\n",
    "    'min_samples_leaf' : randint(1, 30),\n",
    "    'class_weight' : ['balanced', None],\n",
    "    'max_features' : ['auto', 'sqrt', 'log2']\n",
    "}\n",
    "\n",
    "dtc_rs = RandomizedSearchCV(estimator = dtc_clf,\n",
    "                     param_distributions = dtc_rs_params,\n",
    "                     n_iter = 50,\n",
    "                     scoring = ['accuracy', 'precision', 'recall'],\n",
    "                     refit = 'recall',\n",
    "                     cv = 5,\n",
    "                     verbose = 0,\n",
    "                     random_state = 0)"
   ]
  },
  {
   "cell_type": "markdown",
   "metadata": {},
   "source": [
    "#### Grid search"
   ]
  },
  {
   "cell_type": "code",
   "execution_count": 23,
   "metadata": {},
   "outputs": [
    {
     "data": {
      "text/plain": [
       "{'class_weight': 'balanced',\n",
       " 'max_depth': 80,\n",
       " 'max_features': 'auto',\n",
       " 'min_samples_leaf': 25}"
      ]
     },
     "execution_count": 23,
     "metadata": {},
     "output_type": "execute_result"
    }
   ],
   "source": [
    "dtc_gs.fit(X_train, y_train)\n",
    "dtc_gs.best_params_"
   ]
  },
  {
   "cell_type": "code",
   "execution_count": 24,
   "metadata": {
    "scrolled": true
   },
   "outputs": [
    {
     "data": {
      "text/html": [
       "<div>\n",
       "<style scoped>\n",
       "    .dataframe tbody tr th:only-of-type {\n",
       "        vertical-align: middle;\n",
       "    }\n",
       "\n",
       "    .dataframe tbody tr th {\n",
       "        vertical-align: top;\n",
       "    }\n",
       "\n",
       "    .dataframe thead th {\n",
       "        text-align: right;\n",
       "    }\n",
       "</style>\n",
       "<table border=\"1\" class=\"dataframe\">\n",
       "  <thead>\n",
       "    <tr style=\"text-align: right;\">\n",
       "      <th></th>\n",
       "      <th>mean_test_recall</th>\n",
       "      <th>mean_test_precision</th>\n",
       "      <th>mean_test_accuracy</th>\n",
       "      <th>param_class_weight</th>\n",
       "      <th>param_max_depth</th>\n",
       "      <th>param_max_features</th>\n",
       "      <th>param_min_samples_leaf</th>\n",
       "    </tr>\n",
       "  </thead>\n",
       "  <tbody>\n",
       "    <tr>\n",
       "      <th>23</th>\n",
       "      <td>0.769264</td>\n",
       "      <td>0.160855</td>\n",
       "      <td>0.862620</td>\n",
       "      <td>balanced</td>\n",
       "      <td>150</td>\n",
       "      <td>sqrt</td>\n",
       "      <td>25</td>\n",
       "    </tr>\n",
       "    <tr>\n",
       "      <th>20</th>\n",
       "      <td>0.769264</td>\n",
       "      <td>0.160855</td>\n",
       "      <td>0.862620</td>\n",
       "      <td>balanced</td>\n",
       "      <td>150</td>\n",
       "      <td>auto</td>\n",
       "      <td>25</td>\n",
       "    </tr>\n",
       "    <tr>\n",
       "      <th>14</th>\n",
       "      <td>0.769264</td>\n",
       "      <td>0.160855</td>\n",
       "      <td>0.862620</td>\n",
       "      <td>balanced</td>\n",
       "      <td>80</td>\n",
       "      <td>sqrt</td>\n",
       "      <td>25</td>\n",
       "    </tr>\n",
       "    <tr>\n",
       "      <th>11</th>\n",
       "      <td>0.769264</td>\n",
       "      <td>0.160855</td>\n",
       "      <td>0.862620</td>\n",
       "      <td>balanced</td>\n",
       "      <td>80</td>\n",
       "      <td>auto</td>\n",
       "      <td>25</td>\n",
       "    </tr>\n",
       "    <tr>\n",
       "      <th>2</th>\n",
       "      <td>0.713853</td>\n",
       "      <td>0.174913</td>\n",
       "      <td>0.876975</td>\n",
       "      <td>balanced</td>\n",
       "      <td>5</td>\n",
       "      <td>auto</td>\n",
       "      <td>25</td>\n",
       "    </tr>\n",
       "  </tbody>\n",
       "</table>\n",
       "</div>"
      ],
      "text/plain": [
       "    mean_test_recall  mean_test_precision  mean_test_accuracy  \\\n",
       "23          0.769264             0.160855            0.862620   \n",
       "20          0.769264             0.160855            0.862620   \n",
       "14          0.769264             0.160855            0.862620   \n",
       "11          0.769264             0.160855            0.862620   \n",
       "2           0.713853             0.174913            0.876975   \n",
       "\n",
       "   param_class_weight param_max_depth param_max_features  \\\n",
       "23           balanced             150               sqrt   \n",
       "20           balanced             150               auto   \n",
       "14           balanced              80               sqrt   \n",
       "11           balanced              80               auto   \n",
       "2            balanced               5               auto   \n",
       "\n",
       "   param_min_samples_leaf  \n",
       "23                     25  \n",
       "20                     25  \n",
       "14                     25  \n",
       "11                     25  \n",
       "2                      25  "
      ]
     },
     "execution_count": 24,
     "metadata": {},
     "output_type": "execute_result"
    }
   ],
   "source": [
    "pd.DataFrame(dtc_gs.cv_results_).sort_values('rank_test_recall')[['mean_test_recall',\n",
    "                                                                  'mean_test_precision',\n",
    "                                                                  'mean_test_accuracy',\n",
    "                                                                  'param_class_weight',\n",
    "                                                                  'param_max_depth',\n",
    "                                                                  'param_max_features',\n",
    "                                                                  'param_min_samples_leaf'\n",
    "                                                                 ]].head(5)"
   ]
  },
  {
   "cell_type": "markdown",
   "metadata": {},
   "source": [
    "#### Random Search"
   ]
  },
  {
   "cell_type": "code",
   "execution_count": 28,
   "metadata": {
    "scrolled": false
   },
   "outputs": [
    {
     "data": {
      "text/plain": [
       "{'class_weight': 'balanced',\n",
       " 'max_depth': 131,\n",
       " 'max_features': 'auto',\n",
       " 'min_samples_leaf': 22}"
      ]
     },
     "execution_count": 28,
     "metadata": {},
     "output_type": "execute_result"
    }
   ],
   "source": [
    "dtc_rs.fit(X_train, y_train)\n",
    "dtc_rs.best_params_"
   ]
  },
  {
   "cell_type": "code",
   "execution_count": 29,
   "metadata": {
    "scrolled": true
   },
   "outputs": [
    {
     "data": {
      "text/html": [
       "<div>\n",
       "<style scoped>\n",
       "    .dataframe tbody tr th:only-of-type {\n",
       "        vertical-align: middle;\n",
       "    }\n",
       "\n",
       "    .dataframe tbody tr th {\n",
       "        vertical-align: top;\n",
       "    }\n",
       "\n",
       "    .dataframe thead th {\n",
       "        text-align: right;\n",
       "    }\n",
       "</style>\n",
       "<table border=\"1\" class=\"dataframe\">\n",
       "  <thead>\n",
       "    <tr style=\"text-align: right;\">\n",
       "      <th></th>\n",
       "      <th>mean_test_recall</th>\n",
       "      <th>mean_test_precision</th>\n",
       "      <th>mean_test_accuracy</th>\n",
       "      <th>param_class_weight</th>\n",
       "      <th>param_max_depth</th>\n",
       "      <th>param_max_features</th>\n",
       "      <th>param_min_samples_leaf</th>\n",
       "    </tr>\n",
       "  </thead>\n",
       "  <tbody>\n",
       "    <tr>\n",
       "      <th>13</th>\n",
       "      <td>0.787013</td>\n",
       "      <td>0.164871</td>\n",
       "      <td>0.862616</td>\n",
       "      <td>balanced</td>\n",
       "      <td>131</td>\n",
       "      <td>auto</td>\n",
       "      <td>22</td>\n",
       "    </tr>\n",
       "    <tr>\n",
       "      <th>25</th>\n",
       "      <td>0.787013</td>\n",
       "      <td>0.164871</td>\n",
       "      <td>0.862616</td>\n",
       "      <td>balanced</td>\n",
       "      <td>26</td>\n",
       "      <td>sqrt</td>\n",
       "      <td>22</td>\n",
       "    </tr>\n",
       "    <tr>\n",
       "      <th>30</th>\n",
       "      <td>0.769697</td>\n",
       "      <td>0.167599</td>\n",
       "      <td>0.868604</td>\n",
       "      <td>balanced</td>\n",
       "      <td>45</td>\n",
       "      <td>sqrt</td>\n",
       "      <td>17</td>\n",
       "    </tr>\n",
       "    <tr>\n",
       "      <th>7</th>\n",
       "      <td>0.749351</td>\n",
       "      <td>0.171172</td>\n",
       "      <td>0.873993</td>\n",
       "      <td>balanced</td>\n",
       "      <td>82</td>\n",
       "      <td>auto</td>\n",
       "      <td>19</td>\n",
       "    </tr>\n",
       "    <tr>\n",
       "      <th>6</th>\n",
       "      <td>0.739827</td>\n",
       "      <td>0.169185</td>\n",
       "      <td>0.873993</td>\n",
       "      <td>balanced</td>\n",
       "      <td>12</td>\n",
       "      <td>auto</td>\n",
       "      <td>20</td>\n",
       "    </tr>\n",
       "  </tbody>\n",
       "</table>\n",
       "</div>"
      ],
      "text/plain": [
       "    mean_test_recall  mean_test_precision  mean_test_accuracy  \\\n",
       "13          0.787013             0.164871            0.862616   \n",
       "25          0.787013             0.164871            0.862616   \n",
       "30          0.769697             0.167599            0.868604   \n",
       "7           0.749351             0.171172            0.873993   \n",
       "6           0.739827             0.169185            0.873993   \n",
       "\n",
       "   param_class_weight param_max_depth param_max_features  \\\n",
       "13           balanced             131               auto   \n",
       "25           balanced              26               sqrt   \n",
       "30           balanced              45               sqrt   \n",
       "7            balanced              82               auto   \n",
       "6            balanced              12               auto   \n",
       "\n",
       "   param_min_samples_leaf  \n",
       "13                     22  \n",
       "25                     22  \n",
       "30                     17  \n",
       "7                      19  \n",
       "6                      20  "
      ]
     },
     "execution_count": 29,
     "metadata": {},
     "output_type": "execute_result"
    }
   ],
   "source": [
    "pd.DataFrame(dtc_rs.cv_results_).sort_values('rank_test_recall')[['mean_test_recall',\n",
    "                                                                  'mean_test_precision',\n",
    "                                                                  'mean_test_accuracy',\n",
    "                                                                  'param_class_weight',\n",
    "                                                                  'param_max_depth',\n",
    "                                                                  'param_max_features',\n",
    "                                                                  'param_min_samples_leaf'\n",
    "                                                                 ]].head(5)"
   ]
  },
  {
   "cell_type": "markdown",
   "metadata": {},
   "source": [
    "### Random Forest"
   ]
  },
  {
   "cell_type": "code",
   "execution_count": 30,
   "metadata": {},
   "outputs": [],
   "source": [
    "rfc_clf = RandomForestClassifier(random_state=0)\n",
    "\n",
    "rfc_gs_params = {\n",
    "    'n_estimators' : [50, 100, 200],\n",
    "    'max_depth' : [5, 20, 50],\n",
    "    'class_weight' : ['balanced', 'balanced_subsample', None],\n",
    "    'max_features' : ['auto', 'sqrt', 'log2']\n",
    "}\n",
    "\n",
    "rfc_gs = GridSearchCV(estimator = rfc_clf,\n",
    "                     param_grid = rfc_gs_params,\n",
    "                     scoring = ['accuracy', 'precision', 'recall'],\n",
    "                     refit = 'recall',\n",
    "                     cv = 4,\n",
    "                     verbose = 0)\n",
    "\n",
    "rfc_rs_params = {\n",
    "    'n_estimators' : randint(50, 200),\n",
    "    'max_depth' : randint(3, 50),\n",
    "    'class_weight' : ['balanced', 'balanced_subsample', None],\n",
    "    'max_features' : ['auto', 'sqrt', 'log2']\n",
    "}\n",
    "\n",
    "rfc_rs = RandomizedSearchCV(estimator = rfc_clf,\n",
    "                     param_distributions = rfc_rs_params,\n",
    "                     n_iter = 80,\n",
    "                     scoring = ['accuracy', 'precision', 'recall'],\n",
    "                     refit = 'recall',\n",
    "                     cv = 4,\n",
    "                     verbose = 0,\n",
    "                     random_state = 0)"
   ]
  },
  {
   "cell_type": "markdown",
   "metadata": {},
   "source": [
    "#### Grid search"
   ]
  },
  {
   "cell_type": "code",
   "execution_count": 31,
   "metadata": {},
   "outputs": [
    {
     "data": {
      "text/plain": [
       "{'class_weight': 'balanced',\n",
       " 'max_depth': 5,\n",
       " 'max_features': 'log2',\n",
       " 'n_estimators': 50}"
      ]
     },
     "execution_count": 31,
     "metadata": {},
     "output_type": "execute_result"
    }
   ],
   "source": [
    "rfc_gs.fit(X_train, y_train)\n",
    "rfc_gs.best_params_"
   ]
  },
  {
   "cell_type": "code",
   "execution_count": 32,
   "metadata": {
    "scrolled": false
   },
   "outputs": [
    {
     "data": {
      "text/html": [
       "<div>\n",
       "<style scoped>\n",
       "    .dataframe tbody tr th:only-of-type {\n",
       "        vertical-align: middle;\n",
       "    }\n",
       "\n",
       "    .dataframe tbody tr th {\n",
       "        vertical-align: top;\n",
       "    }\n",
       "\n",
       "    .dataframe thead th {\n",
       "        text-align: right;\n",
       "    }\n",
       "</style>\n",
       "<table border=\"1\" class=\"dataframe\">\n",
       "  <thead>\n",
       "    <tr style=\"text-align: right;\">\n",
       "      <th></th>\n",
       "      <th>mean_test_recall</th>\n",
       "      <th>mean_test_precision</th>\n",
       "      <th>mean_test_accuracy</th>\n",
       "      <th>param_class_weight</th>\n",
       "      <th>param_max_depth</th>\n",
       "      <th>param_max_features</th>\n",
       "      <th>param_n_estimators</th>\n",
       "    </tr>\n",
       "  </thead>\n",
       "  <tbody>\n",
       "    <tr>\n",
       "      <th>6</th>\n",
       "      <td>0.657407</td>\n",
       "      <td>0.324251</td>\n",
       "      <td>0.943426</td>\n",
       "      <td>balanced</td>\n",
       "      <td>5</td>\n",
       "      <td>log2</td>\n",
       "      <td>50</td>\n",
       "    </tr>\n",
       "    <tr>\n",
       "      <th>7</th>\n",
       "      <td>0.638889</td>\n",
       "      <td>0.327466</td>\n",
       "      <td>0.944624</td>\n",
       "      <td>balanced</td>\n",
       "      <td>5</td>\n",
       "      <td>log2</td>\n",
       "      <td>100</td>\n",
       "    </tr>\n",
       "    <tr>\n",
       "      <th>34</th>\n",
       "      <td>0.638889</td>\n",
       "      <td>0.328622</td>\n",
       "      <td>0.944623</td>\n",
       "      <td>balanced_subsample</td>\n",
       "      <td>5</td>\n",
       "      <td>log2</td>\n",
       "      <td>100</td>\n",
       "    </tr>\n",
       "    <tr>\n",
       "      <th>35</th>\n",
       "      <td>0.638889</td>\n",
       "      <td>0.334743</td>\n",
       "      <td>0.946420</td>\n",
       "      <td>balanced_subsample</td>\n",
       "      <td>5</td>\n",
       "      <td>log2</td>\n",
       "      <td>200</td>\n",
       "    </tr>\n",
       "    <tr>\n",
       "      <th>8</th>\n",
       "      <td>0.629630</td>\n",
       "      <td>0.332602</td>\n",
       "      <td>0.946120</td>\n",
       "      <td>balanced</td>\n",
       "      <td>5</td>\n",
       "      <td>log2</td>\n",
       "      <td>200</td>\n",
       "    </tr>\n",
       "  </tbody>\n",
       "</table>\n",
       "</div>"
      ],
      "text/plain": [
       "    mean_test_recall  mean_test_precision  mean_test_accuracy  \\\n",
       "6           0.657407             0.324251            0.943426   \n",
       "7           0.638889             0.327466            0.944624   \n",
       "34          0.638889             0.328622            0.944623   \n",
       "35          0.638889             0.334743            0.946420   \n",
       "8           0.629630             0.332602            0.946120   \n",
       "\n",
       "    param_class_weight param_max_depth param_max_features param_n_estimators  \n",
       "6             balanced               5               log2                 50  \n",
       "7             balanced               5               log2                100  \n",
       "34  balanced_subsample               5               log2                100  \n",
       "35  balanced_subsample               5               log2                200  \n",
       "8             balanced               5               log2                200  "
      ]
     },
     "execution_count": 32,
     "metadata": {},
     "output_type": "execute_result"
    }
   ],
   "source": [
    "pd.DataFrame(rfc_gs.cv_results_).sort_values('rank_test_recall')[['mean_test_recall',\n",
    "                                                                  'mean_test_precision',\n",
    "                                                                  'mean_test_accuracy',\n",
    "                                                                  'param_class_weight',\n",
    "                                                                  'param_max_depth',\n",
    "                                                                  'param_max_features',\n",
    "                                                                  'param_n_estimators'\n",
    "                                                                 ]].head(5)"
   ]
  },
  {
   "cell_type": "markdown",
   "metadata": {},
   "source": [
    "#### Random Search"
   ]
  },
  {
   "cell_type": "code",
   "execution_count": 33,
   "metadata": {
    "scrolled": false
   },
   "outputs": [
    {
     "data": {
      "text/plain": [
       "{'class_weight': 'balanced',\n",
       " 'max_depth': 3,\n",
       " 'max_features': 'sqrt',\n",
       " 'n_estimators': 71}"
      ]
     },
     "execution_count": 33,
     "metadata": {},
     "output_type": "execute_result"
    }
   ],
   "source": [
    "rfc_rs.fit(X_train, y_train)\n",
    "rfc_rs.best_params_"
   ]
  },
  {
   "cell_type": "code",
   "execution_count": 34,
   "metadata": {
    "scrolled": false
   },
   "outputs": [
    {
     "data": {
      "text/html": [
       "<div>\n",
       "<style scoped>\n",
       "    .dataframe tbody tr th:only-of-type {\n",
       "        vertical-align: middle;\n",
       "    }\n",
       "\n",
       "    .dataframe tbody tr th {\n",
       "        vertical-align: top;\n",
       "    }\n",
       "\n",
       "    .dataframe thead th {\n",
       "        text-align: right;\n",
       "    }\n",
       "</style>\n",
       "<table border=\"1\" class=\"dataframe\">\n",
       "  <thead>\n",
       "    <tr style=\"text-align: right;\">\n",
       "      <th></th>\n",
       "      <th>mean_test_recall</th>\n",
       "      <th>mean_test_precision</th>\n",
       "      <th>mean_test_accuracy</th>\n",
       "      <th>param_class_weight</th>\n",
       "      <th>param_max_depth</th>\n",
       "      <th>param_max_features</th>\n",
       "      <th>param_n_estimators</th>\n",
       "    </tr>\n",
       "  </thead>\n",
       "  <tbody>\n",
       "    <tr>\n",
       "      <th>0</th>\n",
       "      <td>0.768519</td>\n",
       "      <td>0.256130</td>\n",
       "      <td>0.919481</td>\n",
       "      <td>balanced</td>\n",
       "      <td>3</td>\n",
       "      <td>sqrt</td>\n",
       "      <td>71</td>\n",
       "    </tr>\n",
       "    <tr>\n",
       "      <th>79</th>\n",
       "      <td>0.768519</td>\n",
       "      <td>0.251145</td>\n",
       "      <td>0.917986</td>\n",
       "      <td>balanced_subsample</td>\n",
       "      <td>3</td>\n",
       "      <td>auto</td>\n",
       "      <td>75</td>\n",
       "    </tr>\n",
       "    <tr>\n",
       "      <th>2</th>\n",
       "      <td>0.712963</td>\n",
       "      <td>0.282722</td>\n",
       "      <td>0.930856</td>\n",
       "      <td>balanced</td>\n",
       "      <td>4</td>\n",
       "      <td>log2</td>\n",
       "      <td>89</td>\n",
       "    </tr>\n",
       "    <tr>\n",
       "      <th>62</th>\n",
       "      <td>0.712963</td>\n",
       "      <td>0.303158</td>\n",
       "      <td>0.935942</td>\n",
       "      <td>balanced_subsample</td>\n",
       "      <td>4</td>\n",
       "      <td>sqrt</td>\n",
       "      <td>162</td>\n",
       "    </tr>\n",
       "    <tr>\n",
       "      <th>12</th>\n",
       "      <td>0.703704</td>\n",
       "      <td>0.296714</td>\n",
       "      <td>0.935645</td>\n",
       "      <td>balanced</td>\n",
       "      <td>4</td>\n",
       "      <td>sqrt</td>\n",
       "      <td>107</td>\n",
       "    </tr>\n",
       "  </tbody>\n",
       "</table>\n",
       "</div>"
      ],
      "text/plain": [
       "    mean_test_recall  mean_test_precision  mean_test_accuracy  \\\n",
       "0           0.768519             0.256130            0.919481   \n",
       "79          0.768519             0.251145            0.917986   \n",
       "2           0.712963             0.282722            0.930856   \n",
       "62          0.712963             0.303158            0.935942   \n",
       "12          0.703704             0.296714            0.935645   \n",
       "\n",
       "    param_class_weight param_max_depth param_max_features param_n_estimators  \n",
       "0             balanced               3               sqrt                 71  \n",
       "79  balanced_subsample               3               auto                 75  \n",
       "2             balanced               4               log2                 89  \n",
       "62  balanced_subsample               4               sqrt                162  \n",
       "12            balanced               4               sqrt                107  "
      ]
     },
     "execution_count": 34,
     "metadata": {},
     "output_type": "execute_result"
    }
   ],
   "source": [
    "pd.DataFrame(rfc_rs.cv_results_).sort_values('rank_test_recall')[['mean_test_recall',\n",
    "                                                                  'mean_test_precision',\n",
    "                                                                  'mean_test_accuracy',\n",
    "                                                                  'param_class_weight',\n",
    "                                                                  'param_max_depth',\n",
    "                                                                  'param_max_features',\n",
    "                                                                  'param_n_estimators'\n",
    "                                                                 ]].head(5)"
   ]
  },
  {
   "cell_type": "markdown",
   "metadata": {},
   "source": [
    "### Support Vector Machines"
   ]
  },
  {
   "cell_type": "code",
   "execution_count": 35,
   "metadata": {},
   "outputs": [],
   "source": [
    "svm_clf = SVC(random_state=0)\n",
    "\n",
    "svm_gs_params = {\n",
    "    'class_weight' : ['balanced', None],\n",
    "    'kernel' : ['poly', 'rbf', 'sigmoid'],\n",
    "    'gamma' : [0.1, 1, 10],\n",
    "    'C' : [0.1, 1, 10]\n",
    "}\n",
    "\n",
    "svm_gs = GridSearchCV(estimator = svm_clf,\n",
    "                     param_grid = svm_gs_params,\n",
    "                     scoring = ['accuracy', 'precision', 'recall'],\n",
    "                     refit = 'recall',\n",
    "                     cv = 5,\n",
    "                     verbose = 0)\n",
    "\n",
    "svm_rs_params = {\n",
    "    'class_weight' : ['balanced', None],\n",
    "    'kernel' : ['poly', 'rbf', 'sigmoid'],\n",
    "    'gamma' : expon(),\n",
    "    'C' : expon()\n",
    "}\n",
    "\n",
    "svm_rs = RandomizedSearchCV(estimator = svm_clf,\n",
    "                     param_distributions = svm_rs_params,\n",
    "                     n_iter = 50,\n",
    "                     scoring = ['accuracy', 'precision', 'recall'],\n",
    "                     refit = 'recall',\n",
    "                     cv = 5,\n",
    "                     verbose = 0,\n",
    "                     random_state = 0)"
   ]
  },
  {
   "cell_type": "markdown",
   "metadata": {},
   "source": [
    "#### Grid search"
   ]
  },
  {
   "cell_type": "code",
   "execution_count": 36,
   "metadata": {
    "scrolled": true
   },
   "outputs": [
    {
     "data": {
      "text/plain": [
       "{'C': 0.1, 'class_weight': 'balanced', 'gamma': 0.1, 'kernel': 'rbf'}"
      ]
     },
     "execution_count": 36,
     "metadata": {},
     "output_type": "execute_result"
    }
   ],
   "source": [
    "svm_gs.fit(X_train, y_train)\n",
    "svm_gs.best_params_"
   ]
  },
  {
   "cell_type": "code",
   "execution_count": 37,
   "metadata": {
    "scrolled": false
   },
   "outputs": [
    {
     "data": {
      "text/html": [
       "<div>\n",
       "<style scoped>\n",
       "    .dataframe tbody tr th:only-of-type {\n",
       "        vertical-align: middle;\n",
       "    }\n",
       "\n",
       "    .dataframe tbody tr th {\n",
       "        vertical-align: top;\n",
       "    }\n",
       "\n",
       "    .dataframe thead th {\n",
       "        text-align: right;\n",
       "    }\n",
       "</style>\n",
       "<table border=\"1\" class=\"dataframe\">\n",
       "  <thead>\n",
       "    <tr style=\"text-align: right;\">\n",
       "      <th></th>\n",
       "      <th>mean_test_recall</th>\n",
       "      <th>mean_test_precision</th>\n",
       "      <th>mean_test_accuracy</th>\n",
       "      <th>param_class_weight</th>\n",
       "      <th>param_kernel</th>\n",
       "      <th>param_gamma</th>\n",
       "      <th>param_C</th>\n",
       "    </tr>\n",
       "  </thead>\n",
       "  <tbody>\n",
       "    <tr>\n",
       "      <th>1</th>\n",
       "      <td>0.880087</td>\n",
       "      <td>0.193514</td>\n",
       "      <td>0.875480</td>\n",
       "      <td>balanced</td>\n",
       "      <td>rbf</td>\n",
       "      <td>0.1</td>\n",
       "      <td>0.1</td>\n",
       "    </tr>\n",
       "    <tr>\n",
       "      <th>44</th>\n",
       "      <td>0.800000</td>\n",
       "      <td>0.025749</td>\n",
       "      <td>0.219172</td>\n",
       "      <td>balanced</td>\n",
       "      <td>sigmoid</td>\n",
       "      <td>10</td>\n",
       "      <td>10</td>\n",
       "    </tr>\n",
       "    <tr>\n",
       "      <th>41</th>\n",
       "      <td>0.800000</td>\n",
       "      <td>0.025749</td>\n",
       "      <td>0.219172</td>\n",
       "      <td>balanced</td>\n",
       "      <td>sigmoid</td>\n",
       "      <td>1</td>\n",
       "      <td>10</td>\n",
       "    </tr>\n",
       "    <tr>\n",
       "      <th>19</th>\n",
       "      <td>0.676623</td>\n",
       "      <td>0.262286</td>\n",
       "      <td>0.925469</td>\n",
       "      <td>balanced</td>\n",
       "      <td>rbf</td>\n",
       "      <td>0.1</td>\n",
       "      <td>1</td>\n",
       "    </tr>\n",
       "    <tr>\n",
       "      <th>0</th>\n",
       "      <td>0.602165</td>\n",
       "      <td>0.226786</td>\n",
       "      <td>0.918288</td>\n",
       "      <td>balanced</td>\n",
       "      <td>poly</td>\n",
       "      <td>0.1</td>\n",
       "      <td>0.1</td>\n",
       "    </tr>\n",
       "  </tbody>\n",
       "</table>\n",
       "</div>"
      ],
      "text/plain": [
       "    mean_test_recall  mean_test_precision  mean_test_accuracy  \\\n",
       "1           0.880087             0.193514            0.875480   \n",
       "44          0.800000             0.025749            0.219172   \n",
       "41          0.800000             0.025749            0.219172   \n",
       "19          0.676623             0.262286            0.925469   \n",
       "0           0.602165             0.226786            0.918288   \n",
       "\n",
       "   param_class_weight param_kernel param_gamma param_C  \n",
       "1            balanced          rbf         0.1     0.1  \n",
       "44           balanced      sigmoid          10      10  \n",
       "41           balanced      sigmoid           1      10  \n",
       "19           balanced          rbf         0.1       1  \n",
       "0            balanced         poly         0.1     0.1  "
      ]
     },
     "execution_count": 37,
     "metadata": {},
     "output_type": "execute_result"
    }
   ],
   "source": [
    "pd.DataFrame(svm_gs.cv_results_).sort_values('rank_test_recall')[['mean_test_recall',\n",
    "                                                                  'mean_test_precision',\n",
    "                                                                  'mean_test_accuracy',\n",
    "                                                                  'param_class_weight',\n",
    "                                                                  'param_kernel',\n",
    "                                                                  'param_gamma',\n",
    "                                                                  'param_C'\n",
    "                                                                 ]].head(5)"
   ]
  },
  {
   "cell_type": "markdown",
   "metadata": {},
   "source": [
    "#### Random Search"
   ]
  },
  {
   "cell_type": "code",
   "execution_count": 38,
   "metadata": {
    "scrolled": false
   },
   "outputs": [
    {
     "data": {
      "text/plain": [
       "{'C': 0.1759135534346029,\n",
       " 'class_weight': 'balanced',\n",
       " 'gamma': 0.871915847002657,\n",
       " 'kernel': 'sigmoid'}"
      ]
     },
     "execution_count": 38,
     "metadata": {},
     "output_type": "execute_result"
    }
   ],
   "source": [
    "svm_rs.fit(X_train, y_train)\n",
    "svm_rs.best_params_"
   ]
  },
  {
   "cell_type": "code",
   "execution_count": 39,
   "metadata": {
    "scrolled": true
   },
   "outputs": [
    {
     "data": {
      "text/html": [
       "<div>\n",
       "<style scoped>\n",
       "    .dataframe tbody tr th:only-of-type {\n",
       "        vertical-align: middle;\n",
       "    }\n",
       "\n",
       "    .dataframe tbody tr th {\n",
       "        vertical-align: top;\n",
       "    }\n",
       "\n",
       "    .dataframe thead th {\n",
       "        text-align: right;\n",
       "    }\n",
       "</style>\n",
       "<table border=\"1\" class=\"dataframe\">\n",
       "  <thead>\n",
       "    <tr style=\"text-align: right;\">\n",
       "      <th></th>\n",
       "      <th>mean_test_recall</th>\n",
       "      <th>mean_test_precision</th>\n",
       "      <th>mean_test_accuracy</th>\n",
       "      <th>param_class_weight</th>\n",
       "      <th>param_kernel</th>\n",
       "      <th>param_gamma</th>\n",
       "      <th>param_C</th>\n",
       "    </tr>\n",
       "  </thead>\n",
       "  <tbody>\n",
       "    <tr>\n",
       "      <th>23</th>\n",
       "      <td>0.800000</td>\n",
       "      <td>0.025749</td>\n",
       "      <td>0.219172</td>\n",
       "      <td>balanced</td>\n",
       "      <td>sigmoid</td>\n",
       "      <td>0.582878</td>\n",
       "      <td>1.344245</td>\n",
       "    </tr>\n",
       "    <tr>\n",
       "      <th>17</th>\n",
       "      <td>0.800000</td>\n",
       "      <td>0.025749</td>\n",
       "      <td>0.219172</td>\n",
       "      <td>balanced</td>\n",
       "      <td>sigmoid</td>\n",
       "      <td>0.871916</td>\n",
       "      <td>0.175914</td>\n",
       "    </tr>\n",
       "    <tr>\n",
       "      <th>21</th>\n",
       "      <td>0.685714</td>\n",
       "      <td>0.263236</td>\n",
       "      <td>0.925169</td>\n",
       "      <td>balanced</td>\n",
       "      <td>rbf</td>\n",
       "      <td>0.101035</td>\n",
       "      <td>0.975102</td>\n",
       "    </tr>\n",
       "    <tr>\n",
       "      <th>19</th>\n",
       "      <td>0.556277</td>\n",
       "      <td>0.289492</td>\n",
       "      <td>0.940134</td>\n",
       "      <td>balanced</td>\n",
       "      <td>rbf</td>\n",
       "      <td>0.148712</td>\n",
       "      <td>1.123168</td>\n",
       "    </tr>\n",
       "    <tr>\n",
       "      <th>30</th>\n",
       "      <td>0.547186</td>\n",
       "      <td>0.296466</td>\n",
       "      <td>0.941931</td>\n",
       "      <td>balanced</td>\n",
       "      <td>rbf</td>\n",
       "      <td>0.180252</td>\n",
       "      <td>0.883129</td>\n",
       "    </tr>\n",
       "  </tbody>\n",
       "</table>\n",
       "</div>"
      ],
      "text/plain": [
       "    mean_test_recall  mean_test_precision  mean_test_accuracy  \\\n",
       "23          0.800000             0.025749            0.219172   \n",
       "17          0.800000             0.025749            0.219172   \n",
       "21          0.685714             0.263236            0.925169   \n",
       "19          0.556277             0.289492            0.940134   \n",
       "30          0.547186             0.296466            0.941931   \n",
       "\n",
       "   param_class_weight param_kernel param_gamma   param_C  \n",
       "23           balanced      sigmoid    0.582878  1.344245  \n",
       "17           balanced      sigmoid    0.871916  0.175914  \n",
       "21           balanced          rbf    0.101035  0.975102  \n",
       "19           balanced          rbf    0.148712  1.123168  \n",
       "30           balanced          rbf    0.180252  0.883129  "
      ]
     },
     "execution_count": 39,
     "metadata": {},
     "output_type": "execute_result"
    }
   ],
   "source": [
    "pd.DataFrame(svm_rs.cv_results_).sort_values('rank_test_recall')[['mean_test_recall',\n",
    "                                                                  'mean_test_precision',\n",
    "                                                                  'mean_test_accuracy',\n",
    "                                                                  'param_class_weight',\n",
    "                                                                  'param_kernel',\n",
    "                                                                  'param_gamma',\n",
    "                                                                  'param_C'\n",
    "                                                                 ]].head(5)"
   ]
  },
  {
   "cell_type": "markdown",
   "metadata": {},
   "source": [
    "## Podsumowanie\n",
    "\n",
    "Analizując wyniki uzyskane przez różne modele, łatwo zauważyć, że jeśli zależy nam na wysokim wskaźniku `recall` to będziemy musieli pogodzić się z przynajmniej częściową utratą `accuracy`.\n",
    "\n",
    "Przy dobieraniu parametrów dla modelu `Random Forest Classifier` niestety konieczne były pewne ogrnaniczenia, ze względu na potrzebną moc obliczeniową - bardzo długi czas obliczeń. Możliwe, że przy odpowiednio dobranych parametrach las losowy uzyskałby dużo lepsze wyniki.\n",
    "\n",
    "Najlepsze wyniki udało się uzyskać korzystając z modelu `SVM` z parametrami:\n",
    "- `C` = 0.1\n",
    "- `class_weight` = 'balanced'\n",
    "- `gamma` = 0.1\n",
    "- `kernel` = 'rbf'"
   ]
  },
  {
   "cell_type": "code",
   "execution_count": 40,
   "metadata": {},
   "outputs": [],
   "source": [
    "def results(X, y, model):\n",
    "    accuracy = accuracy_score(y, model.predict(X))\n",
    "    precision = precision_score(y, model.predict(X))\n",
    "    recall = recall_score(y, model.predict(X))\n",
    "    \n",
    "    print('Accuracy: {:.2%}\\nPrecision: {:.2%}\\nRecall: {:.2%}'.format(accuracy, precision, recall))"
   ]
  },
  {
   "cell_type": "code",
   "execution_count": 41,
   "metadata": {},
   "outputs": [],
   "source": [
    "model = svm_gs.best_estimator_\n",
    "\n",
    "df_train = pd.read_csv('data_train.csv', index_col=0)\n",
    "df_train = preprocessing.fit_transform(df_train)\n",
    "\n",
    "y_train = df_train['Bankrupt?']\n",
    "X_train = df_train.drop('Bankrupt?', axis=1)\n",
    "\n",
    "df_test = pd.read_csv('data_test.csv', index_col=0)\n",
    "df_test = preprocessing.transform(df_test)\n",
    "\n",
    "y_test = df_test['Bankrupt?']\n",
    "X_test = df_test.drop('Bankrupt?', axis=1)"
   ]
  },
  {
   "cell_type": "code",
   "execution_count": 42,
   "metadata": {},
   "outputs": [
    {
     "name": "stdout",
     "output_type": "stream",
     "text": [
      "Accuracy: 87.91%\n",
      "Precision: 20.28%\n",
      "Recall: 93.52%\n"
     ]
    }
   ],
   "source": [
    "results(X_train, y_train, model)"
   ]
  },
  {
   "cell_type": "code",
   "execution_count": 44,
   "metadata": {},
   "outputs": [
    {
     "name": "stdout",
     "output_type": "stream",
     "text": [
      "Accuracy: 85.13%\n",
      "Precision: 16.19%\n",
      "Recall: 86.96%\n"
     ]
    }
   ],
   "source": [
    "results(X_test, y_test, model)"
   ]
  },
  {
   "cell_type": "markdown",
   "metadata": {},
   "source": [
    "Na zbiorze treningowym jest to aż 93% recall i 87% accuracy, natomiast na zbiorze testowym 86% recall i 85% accuracy."
   ]
  },
  {
   "cell_type": "markdown",
   "metadata": {},
   "source": [
    "## Walidacja"
   ]
  },
  {
   "cell_type": "markdown",
   "metadata": {},
   "source": [
    "Walidujący: Jan Skwarek, Daniel Tytkowski"
   ]
  },
  {
   "cell_type": "markdown",
   "metadata": {},
   "source": [
    "Zacznijmy od odtworzenia preprocessingu zaproponowanego przez budujących na zbiorze walidacyjnym."
   ]
  },
  {
   "cell_type": "code",
   "execution_count": 45,
   "metadata": {},
   "outputs": [],
   "source": [
    "df_val = pd.read_csv('data_val.csv', index_col=0)\n",
    "df_val = preprocessing.transform(df_val)\n",
    "\n",
    "y_val = df_val['Bankrupt?']\n",
    "X_val = df_val.drop('Bankrupt?', axis=1)"
   ]
  },
  {
   "cell_type": "markdown",
   "metadata": {},
   "source": [
    "Spójrzmy na rezultaty, jakie otrzymamy, przy zastosowaniu wybranych przez budujących, hiperparametrów."
   ]
  },
  {
   "cell_type": "code",
   "execution_count": 46,
   "metadata": {},
   "outputs": [
    {
     "name": "stdout",
     "output_type": "stream",
     "text": [
      "Accuracy: 87.68%\n",
      "Precision: 18.58%\n",
      "Recall: 83.33%\n"
     ]
    }
   ],
   "source": [
    "results(X_val, y_val, model)"
   ]
  },
  {
   "cell_type": "markdown",
   "metadata": {},
   "source": [
    "Co ciekawe, metryka `Recall`, która została wybrana przez budujących (zresztą słusznie) jako kluczowa, dała wynik o ponad 10% gorszy, niż w przypadku zbioru do treningu. Może to oznaczać, że model został przefitowany. Wniosek ten zresztą mógłby być już wyciągnięty przez samych budowniczych, ponieważ zbiór testowy też pokazywał znaczną różnicę. Tutaj różnica wynosi ponad 10%, a to już dużo. Co ciekawe dwie pozostałe metryki wypadają mniej więcej podobnie jak w przypadku zbioru treningowego i testowego. Należałoby się w takim razie zastanowić nad zastosowaniem standardowych procedur wykonywanych w przypadku overfittingu (regularyzacja i tym podobne)."
   ]
  },
  {
   "cell_type": "markdown",
   "metadata": {},
   "source": [
    "Poza ogólnymi wnioskami napisanymi powyżej nie ma większych uwag do wykonanej pracy. Są za to oczywiście te mniejsze:\n",
    "1. Brak komentarzy - zdecydowana większość pracy to nieprzerwany ciąg kodu (co prawda czytelnego, ale mogłyby się pojawić chociaż ostrzeżenia dla walidujących przed funkcjami wykonującymi się dłużej itp.).\n",
    "2. Brak wyjaśnienia, dlaczego akurat te, a nie inne parametry były brane pod uwagę w `GridSearch` i `RandomizedSearch`.\n",
    "3. Brak użycia wyszukiwania Bayes'a. Oczywiście nie można tego uznać za błąd, ponieważ w treści zadania było napisane jedynie o `GridSearch` oraz `RandomizedSearch`, aczkolwiek budujący mogliby się pokusić jeszcze o `BayesSearch`, który z całą pewnością spisałby się lepiej od `RandomizedSearch`.\n",
    "4. Funkcje w preprocessingu mogłyby działać szybciej - zostać optymalniej i krócej napisane, przy pomocą na przykład metody `clip()`. Nie jest to też poważny problem bo wszystko działa jak ma działać.\n",
    "5. Brak wizualizacji innych niż tabele - dla czytelniejszego porównania osiąganych wyników, budujący mogli się pokusić o jakieś wykresy lub inne tego typu wizualizacje.\n",
    "6. Brak odniesienia się do paper'a podanego w treści zadania.\n",
    "7. Budujący mogliby użyć większej ilości metryk do oceny modelu (chociażby ROC-AUC, gini)."
   ]
  },
  {
   "cell_type": "markdown",
   "metadata": {},
   "source": [
    "Warto jednak dodać, że praca ta została wykonana bardzo dobrze. Nie mamy żadnych większych uwag, wszystko wydaje się być logiczne i czytelne."
   ]
  }
 ],
 "metadata": {
  "kernelspec": {
   "display_name": "Python 3",
   "language": "python",
   "name": "python3"
  },
  "language_info": {
   "codemirror_mode": {
    "name": "ipython",
    "version": 3
   },
   "file_extension": ".py",
   "mimetype": "text/x-python",
   "name": "python",
   "nbconvert_exporter": "python",
   "pygments_lexer": "ipython3",
   "version": "3.8.13"
  }
 },
 "nbformat": 4,
 "nbformat_minor": 4
}
