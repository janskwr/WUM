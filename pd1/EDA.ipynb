{
 "cells": [
  {
   "cell_type": "markdown",
   "id": "ad9dcabd",
   "metadata": {},
   "source": [
    "# Wstęp do uczenia maszynowego - praca domowa 1"
   ]
  },
  {
   "cell_type": "markdown",
   "id": "c07cd110",
   "metadata": {},
   "source": [
    "### Autorzy: Jan Skwarek, Daniel Tytkowski"
   ]
  },
  {
   "cell_type": "markdown",
   "id": "966c1061",
   "metadata": {},
   "source": [
    "### Walidujemy: Patryk Rakus, Łukasz Tomaszewski "
   ]
  },
  {
   "cell_type": "markdown",
   "id": "d270f552",
   "metadata": {},
   "source": [
    "Najpierw importujemy wszystkie potrzebne biblioteki."
   ]
  },
  {
   "cell_type": "code",
   "execution_count": 1,
   "id": "8808a065",
   "metadata": {},
   "outputs": [],
   "source": [
    "import pandas as pd\n",
    "import numpy as np\n",
    "from matplotlib import pyplot as plt\n",
    "import seaborn as sns\n",
    "from sklearn.model_selection import train_test_split\n",
    "import warnings\n",
    "warnings.filterwarnings('ignore')"
   ]
  },
  {
   "cell_type": "markdown",
   "id": "8d5f7748",
   "metadata": {},
   "source": [
    "Do walidacji korzystamy z próbki, która nie była dostępna dla budownicznych."
   ]
  },
  {
   "cell_type": "code",
   "execution_count": 2,
   "id": "a12020ca",
   "metadata": {},
   "outputs": [],
   "source": [
    "df_build = pd.read_csv('german_credit_data_dataset.csv')\n",
    "df_build = df_build.sample(frac=0.7, random_state=500)\n",
    "df = pd.read_csv('german_credit_data_dataset.csv')\n",
    "df = df[~df.isin(df_build)].dropna()"
   ]
  },
  {
   "cell_type": "markdown",
   "id": "914ca617",
   "metadata": {},
   "source": [
    "# Eksploracyjna analiza danych (EDA)"
   ]
  },
  {
   "cell_type": "markdown",
   "id": "75fd5231",
   "metadata": {},
   "source": [
    "Spójrzmy najpierw na ogólny wygląd analizowanej przez nas ramki danych."
   ]
  },
  {
   "cell_type": "code",
   "execution_count": 3,
   "id": "f4e341dc",
   "metadata": {},
   "outputs": [
    {
     "data": {
      "text/html": [
       "<div>\n",
       "<style scoped>\n",
       "    .dataframe tbody tr th:only-of-type {\n",
       "        vertical-align: middle;\n",
       "    }\n",
       "\n",
       "    .dataframe tbody tr th {\n",
       "        vertical-align: top;\n",
       "    }\n",
       "\n",
       "    .dataframe thead th {\n",
       "        text-align: right;\n",
       "    }\n",
       "</style>\n",
       "<table border=\"1\" class=\"dataframe\">\n",
       "  <thead>\n",
       "    <tr style=\"text-align: right;\">\n",
       "      <th></th>\n",
       "      <th>checking_account_status</th>\n",
       "      <th>duration</th>\n",
       "      <th>credit_history</th>\n",
       "      <th>purpose</th>\n",
       "      <th>credit_amount</th>\n",
       "      <th>savings</th>\n",
       "      <th>present_employment</th>\n",
       "      <th>installment_rate</th>\n",
       "      <th>personal</th>\n",
       "      <th>other_debtors</th>\n",
       "      <th>...</th>\n",
       "      <th>property</th>\n",
       "      <th>age</th>\n",
       "      <th>other_installment_plans</th>\n",
       "      <th>housing</th>\n",
       "      <th>existing_credits</th>\n",
       "      <th>job</th>\n",
       "      <th>dependents</th>\n",
       "      <th>telephone</th>\n",
       "      <th>foreign_worker</th>\n",
       "      <th>customer_type</th>\n",
       "    </tr>\n",
       "  </thead>\n",
       "  <tbody>\n",
       "    <tr>\n",
       "      <th>3</th>\n",
       "      <td>A11</td>\n",
       "      <td>42.0</td>\n",
       "      <td>A32</td>\n",
       "      <td>A42</td>\n",
       "      <td>7882.0</td>\n",
       "      <td>A61</td>\n",
       "      <td>A74</td>\n",
       "      <td>2.0</td>\n",
       "      <td>A93</td>\n",
       "      <td>A103</td>\n",
       "      <td>...</td>\n",
       "      <td>A122</td>\n",
       "      <td>45.0</td>\n",
       "      <td>A143</td>\n",
       "      <td>A153</td>\n",
       "      <td>1.0</td>\n",
       "      <td>A173</td>\n",
       "      <td>2.0</td>\n",
       "      <td>A191</td>\n",
       "      <td>A201</td>\n",
       "      <td>1.0</td>\n",
       "    </tr>\n",
       "    <tr>\n",
       "      <th>8</th>\n",
       "      <td>A14</td>\n",
       "      <td>12.0</td>\n",
       "      <td>A32</td>\n",
       "      <td>A43</td>\n",
       "      <td>3059.0</td>\n",
       "      <td>A64</td>\n",
       "      <td>A74</td>\n",
       "      <td>2.0</td>\n",
       "      <td>A91</td>\n",
       "      <td>A101</td>\n",
       "      <td>...</td>\n",
       "      <td>A121</td>\n",
       "      <td>61.0</td>\n",
       "      <td>A143</td>\n",
       "      <td>A152</td>\n",
       "      <td>1.0</td>\n",
       "      <td>A172</td>\n",
       "      <td>1.0</td>\n",
       "      <td>A191</td>\n",
       "      <td>A201</td>\n",
       "      <td>1.0</td>\n",
       "    </tr>\n",
       "    <tr>\n",
       "      <th>14</th>\n",
       "      <td>A11</td>\n",
       "      <td>15.0</td>\n",
       "      <td>A32</td>\n",
       "      <td>A40</td>\n",
       "      <td>1403.0</td>\n",
       "      <td>A61</td>\n",
       "      <td>A73</td>\n",
       "      <td>2.0</td>\n",
       "      <td>A92</td>\n",
       "      <td>A101</td>\n",
       "      <td>...</td>\n",
       "      <td>A123</td>\n",
       "      <td>28.0</td>\n",
       "      <td>A143</td>\n",
       "      <td>A151</td>\n",
       "      <td>1.0</td>\n",
       "      <td>A173</td>\n",
       "      <td>1.0</td>\n",
       "      <td>A191</td>\n",
       "      <td>A201</td>\n",
       "      <td>1.0</td>\n",
       "    </tr>\n",
       "    <tr>\n",
       "      <th>15</th>\n",
       "      <td>A11</td>\n",
       "      <td>24.0</td>\n",
       "      <td>A32</td>\n",
       "      <td>A43</td>\n",
       "      <td>1282.0</td>\n",
       "      <td>A62</td>\n",
       "      <td>A73</td>\n",
       "      <td>4.0</td>\n",
       "      <td>A92</td>\n",
       "      <td>A101</td>\n",
       "      <td>...</td>\n",
       "      <td>A123</td>\n",
       "      <td>32.0</td>\n",
       "      <td>A143</td>\n",
       "      <td>A152</td>\n",
       "      <td>1.0</td>\n",
       "      <td>A172</td>\n",
       "      <td>1.0</td>\n",
       "      <td>A191</td>\n",
       "      <td>A201</td>\n",
       "      <td>2.0</td>\n",
       "    </tr>\n",
       "    <tr>\n",
       "      <th>18</th>\n",
       "      <td>A12</td>\n",
       "      <td>24.0</td>\n",
       "      <td>A32</td>\n",
       "      <td>A41</td>\n",
       "      <td>12579.0</td>\n",
       "      <td>A61</td>\n",
       "      <td>A75</td>\n",
       "      <td>4.0</td>\n",
       "      <td>A92</td>\n",
       "      <td>A101</td>\n",
       "      <td>...</td>\n",
       "      <td>A124</td>\n",
       "      <td>44.0</td>\n",
       "      <td>A143</td>\n",
       "      <td>A153</td>\n",
       "      <td>1.0</td>\n",
       "      <td>A174</td>\n",
       "      <td>1.0</td>\n",
       "      <td>A192</td>\n",
       "      <td>A201</td>\n",
       "      <td>2.0</td>\n",
       "    </tr>\n",
       "    <tr>\n",
       "      <th>...</th>\n",
       "      <td>...</td>\n",
       "      <td>...</td>\n",
       "      <td>...</td>\n",
       "      <td>...</td>\n",
       "      <td>...</td>\n",
       "      <td>...</td>\n",
       "      <td>...</td>\n",
       "      <td>...</td>\n",
       "      <td>...</td>\n",
       "      <td>...</td>\n",
       "      <td>...</td>\n",
       "      <td>...</td>\n",
       "      <td>...</td>\n",
       "      <td>...</td>\n",
       "      <td>...</td>\n",
       "      <td>...</td>\n",
       "      <td>...</td>\n",
       "      <td>...</td>\n",
       "      <td>...</td>\n",
       "      <td>...</td>\n",
       "      <td>...</td>\n",
       "    </tr>\n",
       "    <tr>\n",
       "      <th>992</th>\n",
       "      <td>A11</td>\n",
       "      <td>18.0</td>\n",
       "      <td>A32</td>\n",
       "      <td>A43</td>\n",
       "      <td>1936.0</td>\n",
       "      <td>A65</td>\n",
       "      <td>A74</td>\n",
       "      <td>2.0</td>\n",
       "      <td>A94</td>\n",
       "      <td>A101</td>\n",
       "      <td>...</td>\n",
       "      <td>A123</td>\n",
       "      <td>23.0</td>\n",
       "      <td>A143</td>\n",
       "      <td>A151</td>\n",
       "      <td>2.0</td>\n",
       "      <td>A172</td>\n",
       "      <td>1.0</td>\n",
       "      <td>A191</td>\n",
       "      <td>A201</td>\n",
       "      <td>1.0</td>\n",
       "    </tr>\n",
       "    <tr>\n",
       "      <th>994</th>\n",
       "      <td>A14</td>\n",
       "      <td>12.0</td>\n",
       "      <td>A32</td>\n",
       "      <td>A40</td>\n",
       "      <td>2390.0</td>\n",
       "      <td>A65</td>\n",
       "      <td>A75</td>\n",
       "      <td>4.0</td>\n",
       "      <td>A93</td>\n",
       "      <td>A101</td>\n",
       "      <td>...</td>\n",
       "      <td>A123</td>\n",
       "      <td>50.0</td>\n",
       "      <td>A143</td>\n",
       "      <td>A152</td>\n",
       "      <td>1.0</td>\n",
       "      <td>A173</td>\n",
       "      <td>1.0</td>\n",
       "      <td>A192</td>\n",
       "      <td>A201</td>\n",
       "      <td>1.0</td>\n",
       "    </tr>\n",
       "    <tr>\n",
       "      <th>996</th>\n",
       "      <td>A11</td>\n",
       "      <td>30.0</td>\n",
       "      <td>A32</td>\n",
       "      <td>A41</td>\n",
       "      <td>3857.0</td>\n",
       "      <td>A61</td>\n",
       "      <td>A73</td>\n",
       "      <td>4.0</td>\n",
       "      <td>A91</td>\n",
       "      <td>A101</td>\n",
       "      <td>...</td>\n",
       "      <td>A122</td>\n",
       "      <td>40.0</td>\n",
       "      <td>A143</td>\n",
       "      <td>A152</td>\n",
       "      <td>1.0</td>\n",
       "      <td>A174</td>\n",
       "      <td>1.0</td>\n",
       "      <td>A192</td>\n",
       "      <td>A201</td>\n",
       "      <td>1.0</td>\n",
       "    </tr>\n",
       "    <tr>\n",
       "      <th>997</th>\n",
       "      <td>A14</td>\n",
       "      <td>12.0</td>\n",
       "      <td>A32</td>\n",
       "      <td>A43</td>\n",
       "      <td>804.0</td>\n",
       "      <td>A61</td>\n",
       "      <td>A75</td>\n",
       "      <td>4.0</td>\n",
       "      <td>A93</td>\n",
       "      <td>A101</td>\n",
       "      <td>...</td>\n",
       "      <td>A123</td>\n",
       "      <td>38.0</td>\n",
       "      <td>A143</td>\n",
       "      <td>A152</td>\n",
       "      <td>1.0</td>\n",
       "      <td>A173</td>\n",
       "      <td>1.0</td>\n",
       "      <td>A191</td>\n",
       "      <td>A201</td>\n",
       "      <td>1.0</td>\n",
       "    </tr>\n",
       "    <tr>\n",
       "      <th>998</th>\n",
       "      <td>A11</td>\n",
       "      <td>45.0</td>\n",
       "      <td>A32</td>\n",
       "      <td>A43</td>\n",
       "      <td>1845.0</td>\n",
       "      <td>A61</td>\n",
       "      <td>A73</td>\n",
       "      <td>4.0</td>\n",
       "      <td>A93</td>\n",
       "      <td>A101</td>\n",
       "      <td>...</td>\n",
       "      <td>A124</td>\n",
       "      <td>23.0</td>\n",
       "      <td>A143</td>\n",
       "      <td>A153</td>\n",
       "      <td>1.0</td>\n",
       "      <td>A173</td>\n",
       "      <td>1.0</td>\n",
       "      <td>A192</td>\n",
       "      <td>A201</td>\n",
       "      <td>2.0</td>\n",
       "    </tr>\n",
       "  </tbody>\n",
       "</table>\n",
       "<p>300 rows × 21 columns</p>\n",
       "</div>"
      ],
      "text/plain": [
       "    checking_account_status  duration credit_history purpose  credit_amount  \\\n",
       "3                       A11      42.0            A32     A42         7882.0   \n",
       "8                       A14      12.0            A32     A43         3059.0   \n",
       "14                      A11      15.0            A32     A40         1403.0   \n",
       "15                      A11      24.0            A32     A43         1282.0   \n",
       "18                      A12      24.0            A32     A41        12579.0   \n",
       "..                      ...       ...            ...     ...            ...   \n",
       "992                     A11      18.0            A32     A43         1936.0   \n",
       "994                     A14      12.0            A32     A40         2390.0   \n",
       "996                     A11      30.0            A32     A41         3857.0   \n",
       "997                     A14      12.0            A32     A43          804.0   \n",
       "998                     A11      45.0            A32     A43         1845.0   \n",
       "\n",
       "    savings present_employment  installment_rate personal other_debtors  ...  \\\n",
       "3       A61                A74               2.0      A93          A103  ...   \n",
       "8       A64                A74               2.0      A91          A101  ...   \n",
       "14      A61                A73               2.0      A92          A101  ...   \n",
       "15      A62                A73               4.0      A92          A101  ...   \n",
       "18      A61                A75               4.0      A92          A101  ...   \n",
       "..      ...                ...               ...      ...           ...  ...   \n",
       "992     A65                A74               2.0      A94          A101  ...   \n",
       "994     A65                A75               4.0      A93          A101  ...   \n",
       "996     A61                A73               4.0      A91          A101  ...   \n",
       "997     A61                A75               4.0      A93          A101  ...   \n",
       "998     A61                A73               4.0      A93          A101  ...   \n",
       "\n",
       "     property   age  other_installment_plans housing existing_credits   job  \\\n",
       "3        A122  45.0                     A143    A153              1.0  A173   \n",
       "8        A121  61.0                     A143    A152              1.0  A172   \n",
       "14       A123  28.0                     A143    A151              1.0  A173   \n",
       "15       A123  32.0                     A143    A152              1.0  A172   \n",
       "18       A124  44.0                     A143    A153              1.0  A174   \n",
       "..        ...   ...                      ...     ...              ...   ...   \n",
       "992      A123  23.0                     A143    A151              2.0  A172   \n",
       "994      A123  50.0                     A143    A152              1.0  A173   \n",
       "996      A122  40.0                     A143    A152              1.0  A174   \n",
       "997      A123  38.0                     A143    A152              1.0  A173   \n",
       "998      A124  23.0                     A143    A153              1.0  A173   \n",
       "\n",
       "    dependents  telephone foreign_worker customer_type  \n",
       "3          2.0       A191           A201           1.0  \n",
       "8          1.0       A191           A201           1.0  \n",
       "14         1.0       A191           A201           1.0  \n",
       "15         1.0       A191           A201           2.0  \n",
       "18         1.0       A192           A201           2.0  \n",
       "..         ...        ...            ...           ...  \n",
       "992        1.0       A191           A201           1.0  \n",
       "994        1.0       A192           A201           1.0  \n",
       "996        1.0       A192           A201           1.0  \n",
       "997        1.0       A191           A201           1.0  \n",
       "998        1.0       A192           A201           2.0  \n",
       "\n",
       "[300 rows x 21 columns]"
      ]
     },
     "execution_count": 3,
     "metadata": {},
     "output_type": "execute_result"
    }
   ],
   "source": [
    "df"
   ]
  },
  {
   "cell_type": "markdown",
   "id": "a247b5d3",
   "metadata": {},
   "source": [
    "Widzimy już więc wstępny zarys ramki danych, ma 300 wierszy i 21 kolumn. Spójrzmy na \"głowę\"."
   ]
  },
  {
   "cell_type": "code",
   "execution_count": 4,
   "id": "80835073",
   "metadata": {},
   "outputs": [
    {
     "data": {
      "text/html": [
       "<div>\n",
       "<style scoped>\n",
       "    .dataframe tbody tr th:only-of-type {\n",
       "        vertical-align: middle;\n",
       "    }\n",
       "\n",
       "    .dataframe tbody tr th {\n",
       "        vertical-align: top;\n",
       "    }\n",
       "\n",
       "    .dataframe thead th {\n",
       "        text-align: right;\n",
       "    }\n",
       "</style>\n",
       "<table border=\"1\" class=\"dataframe\">\n",
       "  <thead>\n",
       "    <tr style=\"text-align: right;\">\n",
       "      <th></th>\n",
       "      <th>checking_account_status</th>\n",
       "      <th>duration</th>\n",
       "      <th>credit_history</th>\n",
       "      <th>purpose</th>\n",
       "      <th>credit_amount</th>\n",
       "      <th>savings</th>\n",
       "      <th>present_employment</th>\n",
       "      <th>installment_rate</th>\n",
       "      <th>personal</th>\n",
       "      <th>other_debtors</th>\n",
       "      <th>...</th>\n",
       "      <th>property</th>\n",
       "      <th>age</th>\n",
       "      <th>other_installment_plans</th>\n",
       "      <th>housing</th>\n",
       "      <th>existing_credits</th>\n",
       "      <th>job</th>\n",
       "      <th>dependents</th>\n",
       "      <th>telephone</th>\n",
       "      <th>foreign_worker</th>\n",
       "      <th>customer_type</th>\n",
       "    </tr>\n",
       "  </thead>\n",
       "  <tbody>\n",
       "    <tr>\n",
       "      <th>3</th>\n",
       "      <td>A11</td>\n",
       "      <td>42.0</td>\n",
       "      <td>A32</td>\n",
       "      <td>A42</td>\n",
       "      <td>7882.0</td>\n",
       "      <td>A61</td>\n",
       "      <td>A74</td>\n",
       "      <td>2.0</td>\n",
       "      <td>A93</td>\n",
       "      <td>A103</td>\n",
       "      <td>...</td>\n",
       "      <td>A122</td>\n",
       "      <td>45.0</td>\n",
       "      <td>A143</td>\n",
       "      <td>A153</td>\n",
       "      <td>1.0</td>\n",
       "      <td>A173</td>\n",
       "      <td>2.0</td>\n",
       "      <td>A191</td>\n",
       "      <td>A201</td>\n",
       "      <td>1.0</td>\n",
       "    </tr>\n",
       "    <tr>\n",
       "      <th>8</th>\n",
       "      <td>A14</td>\n",
       "      <td>12.0</td>\n",
       "      <td>A32</td>\n",
       "      <td>A43</td>\n",
       "      <td>3059.0</td>\n",
       "      <td>A64</td>\n",
       "      <td>A74</td>\n",
       "      <td>2.0</td>\n",
       "      <td>A91</td>\n",
       "      <td>A101</td>\n",
       "      <td>...</td>\n",
       "      <td>A121</td>\n",
       "      <td>61.0</td>\n",
       "      <td>A143</td>\n",
       "      <td>A152</td>\n",
       "      <td>1.0</td>\n",
       "      <td>A172</td>\n",
       "      <td>1.0</td>\n",
       "      <td>A191</td>\n",
       "      <td>A201</td>\n",
       "      <td>1.0</td>\n",
       "    </tr>\n",
       "    <tr>\n",
       "      <th>14</th>\n",
       "      <td>A11</td>\n",
       "      <td>15.0</td>\n",
       "      <td>A32</td>\n",
       "      <td>A40</td>\n",
       "      <td>1403.0</td>\n",
       "      <td>A61</td>\n",
       "      <td>A73</td>\n",
       "      <td>2.0</td>\n",
       "      <td>A92</td>\n",
       "      <td>A101</td>\n",
       "      <td>...</td>\n",
       "      <td>A123</td>\n",
       "      <td>28.0</td>\n",
       "      <td>A143</td>\n",
       "      <td>A151</td>\n",
       "      <td>1.0</td>\n",
       "      <td>A173</td>\n",
       "      <td>1.0</td>\n",
       "      <td>A191</td>\n",
       "      <td>A201</td>\n",
       "      <td>1.0</td>\n",
       "    </tr>\n",
       "    <tr>\n",
       "      <th>15</th>\n",
       "      <td>A11</td>\n",
       "      <td>24.0</td>\n",
       "      <td>A32</td>\n",
       "      <td>A43</td>\n",
       "      <td>1282.0</td>\n",
       "      <td>A62</td>\n",
       "      <td>A73</td>\n",
       "      <td>4.0</td>\n",
       "      <td>A92</td>\n",
       "      <td>A101</td>\n",
       "      <td>...</td>\n",
       "      <td>A123</td>\n",
       "      <td>32.0</td>\n",
       "      <td>A143</td>\n",
       "      <td>A152</td>\n",
       "      <td>1.0</td>\n",
       "      <td>A172</td>\n",
       "      <td>1.0</td>\n",
       "      <td>A191</td>\n",
       "      <td>A201</td>\n",
       "      <td>2.0</td>\n",
       "    </tr>\n",
       "    <tr>\n",
       "      <th>18</th>\n",
       "      <td>A12</td>\n",
       "      <td>24.0</td>\n",
       "      <td>A32</td>\n",
       "      <td>A41</td>\n",
       "      <td>12579.0</td>\n",
       "      <td>A61</td>\n",
       "      <td>A75</td>\n",
       "      <td>4.0</td>\n",
       "      <td>A92</td>\n",
       "      <td>A101</td>\n",
       "      <td>...</td>\n",
       "      <td>A124</td>\n",
       "      <td>44.0</td>\n",
       "      <td>A143</td>\n",
       "      <td>A153</td>\n",
       "      <td>1.0</td>\n",
       "      <td>A174</td>\n",
       "      <td>1.0</td>\n",
       "      <td>A192</td>\n",
       "      <td>A201</td>\n",
       "      <td>2.0</td>\n",
       "    </tr>\n",
       "  </tbody>\n",
       "</table>\n",
       "<p>5 rows × 21 columns</p>\n",
       "</div>"
      ],
      "text/plain": [
       "   checking_account_status  duration credit_history purpose  credit_amount  \\\n",
       "3                      A11      42.0            A32     A42         7882.0   \n",
       "8                      A14      12.0            A32     A43         3059.0   \n",
       "14                     A11      15.0            A32     A40         1403.0   \n",
       "15                     A11      24.0            A32     A43         1282.0   \n",
       "18                     A12      24.0            A32     A41        12579.0   \n",
       "\n",
       "   savings present_employment  installment_rate personal other_debtors  ...  \\\n",
       "3      A61                A74               2.0      A93          A103  ...   \n",
       "8      A64                A74               2.0      A91          A101  ...   \n",
       "14     A61                A73               2.0      A92          A101  ...   \n",
       "15     A62                A73               4.0      A92          A101  ...   \n",
       "18     A61                A75               4.0      A92          A101  ...   \n",
       "\n",
       "    property   age  other_installment_plans housing existing_credits   job  \\\n",
       "3       A122  45.0                     A143    A153              1.0  A173   \n",
       "8       A121  61.0                     A143    A152              1.0  A172   \n",
       "14      A123  28.0                     A143    A151              1.0  A173   \n",
       "15      A123  32.0                     A143    A152              1.0  A172   \n",
       "18      A124  44.0                     A143    A153              1.0  A174   \n",
       "\n",
       "   dependents  telephone foreign_worker customer_type  \n",
       "3         2.0       A191           A201           1.0  \n",
       "8         1.0       A191           A201           1.0  \n",
       "14        1.0       A191           A201           1.0  \n",
       "15        1.0       A191           A201           2.0  \n",
       "18        1.0       A192           A201           2.0  \n",
       "\n",
       "[5 rows x 21 columns]"
      ]
     },
     "execution_count": 4,
     "metadata": {},
     "output_type": "execute_result"
    }
   ],
   "source": [
    "df.head()"
   ]
  },
  {
   "cell_type": "markdown",
   "id": "bd5f7dcd",
   "metadata": {},
   "source": [
    "Sprawdźmy, czy mamy jakieś kolumny z brakiem danych."
   ]
  },
  {
   "cell_type": "code",
   "execution_count": 5,
   "id": "96bb9e39",
   "metadata": {},
   "outputs": [
    {
     "data": {
      "text/plain": [
       "checking_account_status    0\n",
       "duration                   0\n",
       "credit_history             0\n",
       "purpose                    0\n",
       "credit_amount              0\n",
       "savings                    0\n",
       "present_employment         0\n",
       "installment_rate           0\n",
       "personal                   0\n",
       "other_debtors              0\n",
       "present_residence          0\n",
       "property                   0\n",
       "age                        0\n",
       "other_installment_plans    0\n",
       "housing                    0\n",
       "existing_credits           0\n",
       "job                        0\n",
       "dependents                 0\n",
       "telephone                  0\n",
       "foreign_worker             0\n",
       "customer_type              0\n",
       "dtype: int64"
      ]
     },
     "execution_count": 5,
     "metadata": {},
     "output_type": "execute_result"
    }
   ],
   "source": [
    "df.isna().sum()"
   ]
  },
  {
   "cell_type": "markdown",
   "id": "fa637d93",
   "metadata": {},
   "source": [
    "Jak widać, nie mamy żadnych braków danych. Możemy więc kontynuować naszą analizę."
   ]
  },
  {
   "cell_type": "code",
   "execution_count": 6,
   "id": "c3d216b4",
   "metadata": {},
   "outputs": [
    {
     "name": "stdout",
     "output_type": "stream",
     "text": [
      "<class 'pandas.core.frame.DataFrame'>\n",
      "Int64Index: 300 entries, 3 to 998\n",
      "Data columns (total 21 columns):\n",
      " #   Column                   Non-Null Count  Dtype  \n",
      "---  ------                   --------------  -----  \n",
      " 0   checking_account_status  300 non-null    object \n",
      " 1   duration                 300 non-null    float64\n",
      " 2   credit_history           300 non-null    object \n",
      " 3   purpose                  300 non-null    object \n",
      " 4   credit_amount            300 non-null    float64\n",
      " 5   savings                  300 non-null    object \n",
      " 6   present_employment       300 non-null    object \n",
      " 7   installment_rate         300 non-null    float64\n",
      " 8   personal                 300 non-null    object \n",
      " 9   other_debtors            300 non-null    object \n",
      " 10  present_residence        300 non-null    float64\n",
      " 11  property                 300 non-null    object \n",
      " 12  age                      300 non-null    float64\n",
      " 13  other_installment_plans  300 non-null    object \n",
      " 14  housing                  300 non-null    object \n",
      " 15  existing_credits         300 non-null    float64\n",
      " 16  job                      300 non-null    object \n",
      " 17  dependents               300 non-null    float64\n",
      " 18  telephone                300 non-null    object \n",
      " 19  foreign_worker           300 non-null    object \n",
      " 20  customer_type            300 non-null    float64\n",
      "dtypes: float64(8), object(13)\n",
      "memory usage: 51.6+ KB\n"
     ]
    }
   ],
   "source": [
    "df.info()"
   ]
  },
  {
   "cell_type": "markdown",
   "id": "98d7c0c2",
   "metadata": {},
   "source": [
    "Spróbujmy pozyskać dodatkowe informacje."
   ]
  },
  {
   "cell_type": "code",
   "execution_count": 7,
   "id": "89d080cb",
   "metadata": {},
   "outputs": [
    {
     "data": {
      "text/html": [
       "<div>\n",
       "<style scoped>\n",
       "    .dataframe tbody tr th:only-of-type {\n",
       "        vertical-align: middle;\n",
       "    }\n",
       "\n",
       "    .dataframe tbody tr th {\n",
       "        vertical-align: top;\n",
       "    }\n",
       "\n",
       "    .dataframe thead th {\n",
       "        text-align: right;\n",
       "    }\n",
       "</style>\n",
       "<table border=\"1\" class=\"dataframe\">\n",
       "  <thead>\n",
       "    <tr style=\"text-align: right;\">\n",
       "      <th></th>\n",
       "      <th>duration</th>\n",
       "      <th>credit_amount</th>\n",
       "      <th>installment_rate</th>\n",
       "      <th>present_residence</th>\n",
       "      <th>age</th>\n",
       "      <th>existing_credits</th>\n",
       "      <th>dependents</th>\n",
       "      <th>customer_type</th>\n",
       "    </tr>\n",
       "  </thead>\n",
       "  <tbody>\n",
       "    <tr>\n",
       "      <th>count</th>\n",
       "      <td>300.000000</td>\n",
       "      <td>300.000000</td>\n",
       "      <td>300.000000</td>\n",
       "      <td>300.000000</td>\n",
       "      <td>300.000000</td>\n",
       "      <td>300.000000</td>\n",
       "      <td>300.000000</td>\n",
       "      <td>300.000000</td>\n",
       "    </tr>\n",
       "    <tr>\n",
       "      <th>mean</th>\n",
       "      <td>20.626667</td>\n",
       "      <td>3182.280000</td>\n",
       "      <td>3.000000</td>\n",
       "      <td>2.823333</td>\n",
       "      <td>35.993333</td>\n",
       "      <td>1.363333</td>\n",
       "      <td>1.146667</td>\n",
       "      <td>1.286667</td>\n",
       "    </tr>\n",
       "    <tr>\n",
       "      <th>std</th>\n",
       "      <td>11.923977</td>\n",
       "      <td>2673.975363</td>\n",
       "      <td>1.103355</td>\n",
       "      <td>1.126804</td>\n",
       "      <td>11.634625</td>\n",
       "      <td>0.564847</td>\n",
       "      <td>0.354364</td>\n",
       "      <td>0.452960</td>\n",
       "    </tr>\n",
       "    <tr>\n",
       "      <th>min</th>\n",
       "      <td>4.000000</td>\n",
       "      <td>362.000000</td>\n",
       "      <td>1.000000</td>\n",
       "      <td>1.000000</td>\n",
       "      <td>19.000000</td>\n",
       "      <td>1.000000</td>\n",
       "      <td>1.000000</td>\n",
       "      <td>1.000000</td>\n",
       "    </tr>\n",
       "    <tr>\n",
       "      <th>25%</th>\n",
       "      <td>12.000000</td>\n",
       "      <td>1393.000000</td>\n",
       "      <td>2.000000</td>\n",
       "      <td>2.000000</td>\n",
       "      <td>27.000000</td>\n",
       "      <td>1.000000</td>\n",
       "      <td>1.000000</td>\n",
       "      <td>1.000000</td>\n",
       "    </tr>\n",
       "    <tr>\n",
       "      <th>50%</th>\n",
       "      <td>18.000000</td>\n",
       "      <td>2337.500000</td>\n",
       "      <td>3.000000</td>\n",
       "      <td>3.000000</td>\n",
       "      <td>33.000000</td>\n",
       "      <td>1.000000</td>\n",
       "      <td>1.000000</td>\n",
       "      <td>1.000000</td>\n",
       "    </tr>\n",
       "    <tr>\n",
       "      <th>75%</th>\n",
       "      <td>24.000000</td>\n",
       "      <td>3858.500000</td>\n",
       "      <td>4.000000</td>\n",
       "      <td>4.000000</td>\n",
       "      <td>43.000000</td>\n",
       "      <td>2.000000</td>\n",
       "      <td>1.000000</td>\n",
       "      <td>2.000000</td>\n",
       "    </tr>\n",
       "    <tr>\n",
       "      <th>max</th>\n",
       "      <td>60.000000</td>\n",
       "      <td>18424.000000</td>\n",
       "      <td>4.000000</td>\n",
       "      <td>4.000000</td>\n",
       "      <td>75.000000</td>\n",
       "      <td>4.000000</td>\n",
       "      <td>2.000000</td>\n",
       "      <td>2.000000</td>\n",
       "    </tr>\n",
       "  </tbody>\n",
       "</table>\n",
       "</div>"
      ],
      "text/plain": [
       "         duration  credit_amount  installment_rate  present_residence  \\\n",
       "count  300.000000     300.000000        300.000000         300.000000   \n",
       "mean    20.626667    3182.280000          3.000000           2.823333   \n",
       "std     11.923977    2673.975363          1.103355           1.126804   \n",
       "min      4.000000     362.000000          1.000000           1.000000   \n",
       "25%     12.000000    1393.000000          2.000000           2.000000   \n",
       "50%     18.000000    2337.500000          3.000000           3.000000   \n",
       "75%     24.000000    3858.500000          4.000000           4.000000   \n",
       "max     60.000000   18424.000000          4.000000           4.000000   \n",
       "\n",
       "              age  existing_credits  dependents  customer_type  \n",
       "count  300.000000        300.000000  300.000000     300.000000  \n",
       "mean    35.993333          1.363333    1.146667       1.286667  \n",
       "std     11.634625          0.564847    0.354364       0.452960  \n",
       "min     19.000000          1.000000    1.000000       1.000000  \n",
       "25%     27.000000          1.000000    1.000000       1.000000  \n",
       "50%     33.000000          1.000000    1.000000       1.000000  \n",
       "75%     43.000000          2.000000    1.000000       2.000000  \n",
       "max     75.000000          4.000000    2.000000       2.000000  "
      ]
     },
     "execution_count": 7,
     "metadata": {},
     "output_type": "execute_result"
    }
   ],
   "source": [
    "df.describe()"
   ]
  },
  {
   "cell_type": "markdown",
   "id": "5bec5021",
   "metadata": {},
   "source": [
    "Spójrzmy na rozkłady zmiennych"
   ]
  },
  {
   "cell_type": "code",
   "execution_count": 8,
   "id": "999ad48f",
   "metadata": {},
   "outputs": [
    {
     "data": {
      "image/png": "[encoded data removed]",
      "text/plain": [
       "<Figure size 1296x864 with 9 Axes>"
      ]
     },
     "metadata": {
      "needs_background": "light"
     },
     "output_type": "display_data"
    }
   ],
   "source": [
    "df.hist(bins = 40, figsize=(18, 12))\n",
    "plt.show()"
   ]
  },
  {
   "cell_type": "markdown",
   "id": "84162d52",
   "metadata": {},
   "source": [
    "Najciekawiej wygląda rozkład zmiennej 'credit_amount'. Jest to bowiem rozkład jednomodalny asymetryczny prawostronny. W analizie jednowymiarowej zbadamy każdą zmienną oddzielnie."
   ]
  },
  {
   "cell_type": "markdown",
   "id": "3629dece",
   "metadata": {},
   "source": [
    "## Analiza jednowymiarowa"
   ]
  },
  {
   "cell_type": "markdown",
   "id": "edd23f22",
   "metadata": {},
   "source": [
    "### checking_account_status"
   ]
  },
  {
   "cell_type": "markdown",
   "id": "8c731313",
   "metadata": {},
   "source": [
    "Pierwsza zmienna to 'checking_account_status'. Spójrzmy jakie wartości przyjmuje."
   ]
  },
  {
   "cell_type": "code",
   "execution_count": 9,
   "id": "cdf5c41c",
   "metadata": {},
   "outputs": [
    {
     "data": {
      "text/plain": [
       "A14    116\n",
       "A12     82\n",
       "A11     80\n",
       "A13     22\n",
       "Name: checking_account_status, dtype: int64"
      ]
     },
     "execution_count": 9,
     "metadata": {},
     "output_type": "execute_result"
    }
   ],
   "source": [
    "df['checking_account_status'].value_counts()"
   ]
  },
  {
   "cell_type": "markdown",
   "id": "56b15160",
   "metadata": {},
   "source": [
    "Zwizualizujmy to na wykresie"
   ]
  },
  {
   "cell_type": "code",
   "execution_count": 10,
   "id": "399ee5dd",
   "metadata": {},
   "outputs": [
    {
     "data": {
      "image/png": "[encoded data removed]",
      "text/plain": [
       "<Figure size 432x288 with 1 Axes>"
      ]
     },
     "metadata": {
      "needs_background": "light"
     },
     "output_type": "display_data"
    }
   ],
   "source": [
    "df['checking_account_status'].value_counts().plot(kind=\"bar\")\n",
    "plt.show()"
   ]
  },
  {
   "cell_type": "markdown",
   "id": "26f4403a",
   "metadata": {},
   "source": [
    "Nic szczególnie ciekawego na ten moment sobie o tej zmiennej nie powiemy."
   ]
  },
  {
   "cell_type": "markdown",
   "id": "f7afb6f8",
   "metadata": {},
   "source": [
    "### duration "
   ]
  },
  {
   "cell_type": "markdown",
   "id": "abf96924",
   "metadata": {},
   "source": [
    "Zacznijmy znowu od wartości."
   ]
  },
  {
   "cell_type": "code",
   "execution_count": 11,
   "id": "d55cdef0",
   "metadata": {},
   "outputs": [
    {
     "data": {
      "text/plain": [
       "24.0    58\n",
       "12.0    57\n",
       "18.0    29\n",
       "15.0    25\n",
       "6.0     25\n",
       "36.0    20\n",
       "48.0    16\n",
       "30.0    14\n",
       "9.0     11\n",
       "10.0     9\n",
       "21.0     8\n",
       "27.0     5\n",
       "60.0     4\n",
       "11.0     3\n",
       "4.0      2\n",
       "28.0     2\n",
       "42.0     2\n",
       "7.0      2\n",
       "45.0     2\n",
       "26.0     1\n",
       "14.0     1\n",
       "39.0     1\n",
       "40.0     1\n",
       "8.0      1\n",
       "13.0     1\n",
       "Name: duration, dtype: int64"
      ]
     },
     "execution_count": 11,
     "metadata": {},
     "output_type": "execute_result"
    }
   ],
   "source": [
    "df['duration'].value_counts()"
   ]
  },
  {
   "cell_type": "markdown",
   "id": "997e70ea",
   "metadata": {},
   "source": [
    "Tym razem trochę ich jest. Spójrzmy ile dokładnie."
   ]
  },
  {
   "cell_type": "code",
   "execution_count": 12,
   "id": "19426f2d",
   "metadata": {},
   "outputs": [
    {
     "data": {
      "text/plain": [
       "25"
      ]
     },
     "execution_count": 12,
     "metadata": {},
     "output_type": "execute_result"
    }
   ],
   "source": [
    "df['duration'].value_counts().size"
   ]
  },
  {
   "cell_type": "markdown",
   "id": "a53690a3",
   "metadata": {},
   "source": [
    "Mamy 25 unikalnych wartości. Część z nich pojawia się ponad 50 razy (\"24.0\", \"12.0\"), a część z nich pojawia się maksymalnie dwa razy (tych akurat jest stosunkowo dużo, zliczmy je)."
   ]
  },
  {
   "cell_type": "code",
   "execution_count": 13,
   "id": "04b9fd9a",
   "metadata": {},
   "outputs": [
    {
     "data": {
      "text/plain": [
       "11"
      ]
     },
     "execution_count": 13,
     "metadata": {},
     "output_type": "execute_result"
    }
   ],
   "source": [
    "(df['duration'].value_counts() <= 2).sum()"
   ]
  },
  {
   "cell_type": "markdown",
   "id": "4606fb6f",
   "metadata": {},
   "source": [
    "Jest aż 11 takich wartości. Teraz przyjrzyjmy się danym statystycznym wartości tej zmiennej i wygenerujmy sobie boxplota."
   ]
  },
  {
   "cell_type": "code",
   "execution_count": 14,
   "id": "d4e11eed",
   "metadata": {},
   "outputs": [
    {
     "data": {
      "text/plain": [
       "count    300.000000\n",
       "mean      20.626667\n",
       "std       11.923977\n",
       "min        4.000000\n",
       "25%       12.000000\n",
       "50%       18.000000\n",
       "75%       24.000000\n",
       "max       60.000000\n",
       "Name: duration, dtype: float64"
      ]
     },
     "execution_count": 14,
     "metadata": {},
     "output_type": "execute_result"
    }
   ],
   "source": [
    "df['duration'].describe()"
   ]
  },
  {
   "cell_type": "code",
   "execution_count": 15,
   "id": "eff1d9b7",
   "metadata": {},
   "outputs": [
    {
     "data": {
      "image/png": "[encoded data removed]",
      "text/plain": [
       "<Figure size 432x288 with 1 Axes>"
      ]
     },
     "metadata": {
      "needs_background": "light"
     },
     "output_type": "display_data"
    }
   ],
   "source": [
    "sns.boxplot(df['duration'])\n",
    "plt.show()"
   ]
  },
  {
   "cell_type": "markdown",
   "id": "3d61b96c",
   "metadata": {},
   "source": [
    "Boxplot pokazuje nam, że istnieją outliery z prawej strony. Znajdźmy je za pomocą rozstępu ćwiartkowego."
   ]
  },
  {
   "cell_type": "code",
   "execution_count": 16,
   "id": "92bd60f7",
   "metadata": {},
   "outputs": [
    {
     "name": "stdout",
     "output_type": "stream",
     "text": [
      "-6.0\n",
      "42.0\n"
     ]
    }
   ],
   "source": [
    "IQR = 24 - 12\n",
    "print(12 - IQR * 1.5)\n",
    "print(24 + IQR * 1.5)"
   ]
  },
  {
   "cell_type": "markdown",
   "id": "b04e3635",
   "metadata": {},
   "source": [
    "Według obliczeń outliery to wyniki powyżej 42.0, ile ich jest?"
   ]
  },
  {
   "cell_type": "code",
   "execution_count": 17,
   "id": "9728ec85",
   "metadata": {},
   "outputs": [
    {
     "data": {
      "text/plain": [
       "22"
      ]
     },
     "execution_count": 17,
     "metadata": {},
     "output_type": "execute_result"
    }
   ],
   "source": [
    "(df['duration']>42).sum()"
   ]
  },
  {
   "cell_type": "markdown",
   "id": "5f622e6c",
   "metadata": {},
   "source": [
    "Sprawdźmy jak dane wyglądają na histogramie."
   ]
  },
  {
   "cell_type": "code",
   "execution_count": 18,
   "id": "a02b12a5",
   "metadata": {},
   "outputs": [
    {
     "data": {
      "image/png": "[encoded data removed]",
      "text/plain": [
       "<Figure size 432x288 with 1 Axes>"
      ]
     },
     "metadata": {
      "needs_background": "light"
     },
     "output_type": "display_data"
    }
   ],
   "source": [
    "sns.histplot(df['duration'])\n",
    "plt.show()"
   ]
  },
  {
   "cell_type": "markdown",
   "id": "6f90e9da",
   "metadata": {},
   "source": [
    "### credit_history "
   ]
  },
  {
   "cell_type": "markdown",
   "id": "b95a49bf",
   "metadata": {},
   "source": [
    "Nie jest to za ciekawa kolumna. Ponownie ograniczymy się do zliczenia unikatowych wartości i zwizualizowania ich na jakimś wykresie."
   ]
  },
  {
   "cell_type": "code",
   "execution_count": 19,
   "id": "19f1da11",
   "metadata": {},
   "outputs": [
    {
     "data": {
      "text/plain": [
       "A32    161\n",
       "A34     83\n",
       "A33     25\n",
       "A31     19\n",
       "A30     12\n",
       "Name: credit_history, dtype: int64"
      ]
     },
     "execution_count": 19,
     "metadata": {},
     "output_type": "execute_result"
    }
   ],
   "source": [
    "df['credit_history'].value_counts()"
   ]
  },
  {
   "cell_type": "code",
   "execution_count": 20,
   "id": "185fd3f4",
   "metadata": {},
   "outputs": [
    {
     "data": {
      "image/png": "[encoded data removed]",
      "text/plain": [
       "<Figure size 432x288 with 1 Axes>"
      ]
     },
     "metadata": {
      "needs_background": "light"
     },
     "output_type": "display_data"
    }
   ],
   "source": [
    "df['credit_history'].value_counts().plot(kind=\"bar\")\n",
    "plt.show()"
   ]
  },
  {
   "cell_type": "markdown",
   "id": "37dee64f",
   "metadata": {},
   "source": [
    "### purpose"
   ]
  },
  {
   "cell_type": "markdown",
   "id": "ec21cd21",
   "metadata": {},
   "source": [
    "Podobnie zrobimy w tym przypadku."
   ]
  },
  {
   "cell_type": "code",
   "execution_count": 21,
   "id": "a8c97422",
   "metadata": {},
   "outputs": [
    {
     "data": {
      "text/plain": [
       "A43     86\n",
       "A40     69\n",
       "A42     51\n",
       "A41     41\n",
       "A49     28\n",
       "A46     13\n",
       "A45      6\n",
       "A48      2\n",
       "A410     2\n",
       "A44      2\n",
       "Name: purpose, dtype: int64"
      ]
     },
     "execution_count": 21,
     "metadata": {},
     "output_type": "execute_result"
    }
   ],
   "source": [
    "df['purpose'].value_counts()"
   ]
  },
  {
   "cell_type": "code",
   "execution_count": 22,
   "id": "e33182dc",
   "metadata": {},
   "outputs": [
    {
     "data": {
      "image/png": "[encoded data removed]",
      "text/plain": [
       "<Figure size 432x288 with 1 Axes>"
      ]
     },
     "metadata": {
      "needs_background": "light"
     },
     "output_type": "display_data"
    }
   ],
   "source": [
    "df['purpose'].value_counts().plot(kind=\"bar\")\n",
    "plt.show()"
   ]
  },
  {
   "cell_type": "markdown",
   "id": "4f85878f",
   "metadata": {},
   "source": [
    "### credit_amount"
   ]
  },
  {
   "cell_type": "markdown",
   "id": "cdd9ade5",
   "metadata": {},
   "source": [
    "Tej zmiennej przyjrzymy się nieco dogłębniej."
   ]
  },
  {
   "cell_type": "code",
   "execution_count": 23,
   "id": "3b1bef8e",
   "metadata": {},
   "outputs": [
    {
     "data": {
      "text/plain": [
       "1393.0     2\n",
       "1282.0     2\n",
       "1413.0     2\n",
       "717.0      2\n",
       "1409.0     2\n",
       "          ..\n",
       "14318.0    1\n",
       "13756.0    1\n",
       "3079.0     1\n",
       "3850.0     1\n",
       "1845.0     1\n",
       "Name: credit_amount, Length: 294, dtype: int64"
      ]
     },
     "execution_count": 23,
     "metadata": {},
     "output_type": "execute_result"
    }
   ],
   "source": [
    "df['credit_amount'].value_counts()"
   ]
  },
  {
   "cell_type": "markdown",
   "id": "8a1d0742",
   "metadata": {},
   "source": [
    "Wygląda na to, że prawie każda obserwacja przyjmuje unikatową wartość tej zmiennej."
   ]
  },
  {
   "cell_type": "code",
   "execution_count": 24,
   "id": "297eb408",
   "metadata": {},
   "outputs": [
    {
     "data": {
      "text/plain": [
       "count      300.000000\n",
       "mean      3182.280000\n",
       "std       2673.975363\n",
       "min        362.000000\n",
       "25%       1393.000000\n",
       "50%       2337.500000\n",
       "75%       3858.500000\n",
       "max      18424.000000\n",
       "Name: credit_amount, dtype: float64"
      ]
     },
     "execution_count": 24,
     "metadata": {},
     "output_type": "execute_result"
    }
   ],
   "source": [
    "df['credit_amount'].describe()"
   ]
  },
  {
   "cell_type": "markdown",
   "id": "934f183d",
   "metadata": {},
   "source": [
    "Spójrzmy na boxplot."
   ]
  },
  {
   "cell_type": "code",
   "execution_count": 25,
   "id": "e92015b5",
   "metadata": {},
   "outputs": [
    {
     "data": {
      "image/png": "[encoded data removed]",
      "text/plain": [
       "<Figure size 432x288 with 1 Axes>"
      ]
     },
     "metadata": {
      "needs_background": "light"
     },
     "output_type": "display_data"
    }
   ],
   "source": [
    "sns.boxplot(df['credit_amount'])\n",
    "plt.show()"
   ]
  },
  {
   "cell_type": "markdown",
   "id": "b90b9ac3",
   "metadata": {},
   "source": [
    "Zbadajmy outliery tą samą metodą co wcześniej."
   ]
  },
  {
   "cell_type": "code",
   "execution_count": 26,
   "id": "ed444bbc",
   "metadata": {},
   "outputs": [
    {
     "name": "stdout",
     "output_type": "stream",
     "text": [
      "-2305.25\n",
      "7556.75\n"
     ]
    }
   ],
   "source": [
    "IQR = 3858.5 - 1393\n",
    "print(1393 - IQR * 1.5)\n",
    "print(3858.5 + IQR * 1.5)"
   ]
  },
  {
   "cell_type": "markdown",
   "id": "1a94ef70",
   "metadata": {},
   "source": [
    "Ile ich jest?"
   ]
  },
  {
   "cell_type": "code",
   "execution_count": 27,
   "id": "12eebc0d",
   "metadata": {},
   "outputs": [
    {
     "data": {
      "text/plain": [
       "19"
      ]
     },
     "execution_count": 27,
     "metadata": {},
     "output_type": "execute_result"
    }
   ],
   "source": [
    "(df['credit_amount']>7785).sum()"
   ]
  },
  {
   "cell_type": "markdown",
   "id": "30f0127b",
   "metadata": {},
   "source": [
    "Obejrzmy histogram."
   ]
  },
  {
   "cell_type": "code",
   "execution_count": 28,
   "id": "e26eae9a",
   "metadata": {},
   "outputs": [
    {
     "data": {
      "image/png": "[encoded data removed]",
      "text/plain": [
       "<Figure size 432x288 with 1 Axes>"
      ]
     },
     "metadata": {
      "needs_background": "light"
     },
     "output_type": "display_data"
    }
   ],
   "source": [
    "sns.histplot(df['credit_amount'])\n",
    "plt.show()"
   ]
  },
  {
   "cell_type": "markdown",
   "id": "c6cc3e52",
   "metadata": {},
   "source": [
    "### savings "
   ]
  },
  {
   "cell_type": "markdown",
   "id": "562136da",
   "metadata": {},
   "source": [
    "Ograniczymy się do zliczenia unikatowych wartości i zwizualizowania ich na jakimś wykresie. Od tej pory będziemy postępować tak domyślnie przy mniej ciekawych zmiennych."
   ]
  },
  {
   "cell_type": "code",
   "execution_count": 29,
   "id": "bccac979",
   "metadata": {},
   "outputs": [
    {
     "data": {
      "text/plain": [
       "A61    177\n",
       "A65     59\n",
       "A62     32\n",
       "A63     17\n",
       "A64     15\n",
       "Name: savings, dtype: int64"
      ]
     },
     "execution_count": 29,
     "metadata": {},
     "output_type": "execute_result"
    }
   ],
   "source": [
    "df['savings'].value_counts()"
   ]
  },
  {
   "cell_type": "code",
   "execution_count": 30,
   "id": "35a4243b",
   "metadata": {},
   "outputs": [
    {
     "data": {
      "image/png": "[encoded data removed]",
      "text/plain": [
       "<Figure size 432x288 with 1 Axes>"
      ]
     },
     "metadata": {
      "needs_background": "light"
     },
     "output_type": "display_data"
    }
   ],
   "source": [
    "df['savings'].value_counts().plot(kind=\"bar\")\n",
    "plt.show()"
   ]
  },
  {
   "cell_type": "markdown",
   "id": "228b0bb4",
   "metadata": {},
   "source": [
    "### present_employment "
   ]
  },
  {
   "cell_type": "code",
   "execution_count": 31,
   "id": "d8e0bb54",
   "metadata": {},
   "outputs": [
    {
     "data": {
      "text/plain": [
       "A73    110\n",
       "A75     72\n",
       "A74     51\n",
       "A72     48\n",
       "A71     19\n",
       "Name: present_employment, dtype: int64"
      ]
     },
     "execution_count": 31,
     "metadata": {},
     "output_type": "execute_result"
    }
   ],
   "source": [
    "df['present_employment'].value_counts()"
   ]
  },
  {
   "cell_type": "code",
   "execution_count": 32,
   "id": "83e1ab41",
   "metadata": {},
   "outputs": [
    {
     "data": {
      "image/png": "[encoded data removed]",
      "text/plain": [
       "<Figure size 432x288 with 1 Axes>"
      ]
     },
     "metadata": {
      "needs_background": "light"
     },
     "output_type": "display_data"
    }
   ],
   "source": [
    "df['present_employment'].value_counts().plot(kind=\"bar\")\n",
    "plt.show()"
   ]
  },
  {
   "cell_type": "markdown",
   "id": "0e6a5037",
   "metadata": {},
   "source": [
    "### installment_rate "
   ]
  },
  {
   "cell_type": "code",
   "execution_count": 33,
   "id": "e08ae1c5",
   "metadata": {},
   "outputs": [
    {
     "data": {
      "text/plain": [
       "4.0    146\n",
       "2.0     74\n",
       "3.0     44\n",
       "1.0     36\n",
       "Name: installment_rate, dtype: int64"
      ]
     },
     "execution_count": 33,
     "metadata": {},
     "output_type": "execute_result"
    }
   ],
   "source": [
    "df['installment_rate'].value_counts()"
   ]
  },
  {
   "cell_type": "code",
   "execution_count": 34,
   "id": "064bd158",
   "metadata": {},
   "outputs": [
    {
     "data": {
      "image/png": "[encoded data removed]",
      "text/plain": [
       "<Figure size 432x288 with 1 Axes>"
      ]
     },
     "metadata": {
      "needs_background": "light"
     },
     "output_type": "display_data"
    }
   ],
   "source": [
    "df['installment_rate'].value_counts().plot(kind=\"bar\")\n",
    "plt.show()"
   ]
  },
  {
   "cell_type": "code",
   "execution_count": 35,
   "id": "0a84c73d",
   "metadata": {},
   "outputs": [
    {
     "data": {
      "text/plain": [
       "count    300.000000\n",
       "mean       3.000000\n",
       "std        1.103355\n",
       "min        1.000000\n",
       "25%        2.000000\n",
       "50%        3.000000\n",
       "75%        4.000000\n",
       "max        4.000000\n",
       "Name: installment_rate, dtype: float64"
      ]
     },
     "execution_count": 35,
     "metadata": {},
     "output_type": "execute_result"
    }
   ],
   "source": [
    "df['installment_rate'].describe()"
   ]
  },
  {
   "cell_type": "markdown",
   "id": "b94bc5d5",
   "metadata": {},
   "source": [
    "### personal"
   ]
  },
  {
   "cell_type": "code",
   "execution_count": 36,
   "id": "1c591581",
   "metadata": {},
   "outputs": [
    {
     "data": {
      "text/plain": [
       "A93    178\n",
       "A92     71\n",
       "A94     37\n",
       "A91     14\n",
       "Name: personal, dtype: int64"
      ]
     },
     "execution_count": 36,
     "metadata": {},
     "output_type": "execute_result"
    }
   ],
   "source": [
    "df['personal'].value_counts()"
   ]
  },
  {
   "cell_type": "code",
   "execution_count": 37,
   "id": "2d026425",
   "metadata": {},
   "outputs": [
    {
     "data": {
      "image/png": "[encoded data removed]",
      "text/plain": [
       "<Figure size 432x288 with 1 Axes>"
      ]
     },
     "metadata": {
      "needs_background": "light"
     },
     "output_type": "display_data"
    }
   ],
   "source": [
    "df['personal'].value_counts().plot(kind=\"bar\")\n",
    "plt.show()"
   ]
  },
  {
   "cell_type": "markdown",
   "id": "8c14b356",
   "metadata": {},
   "source": [
    "### other_debtors "
   ]
  },
  {
   "cell_type": "code",
   "execution_count": 38,
   "id": "1e775d24",
   "metadata": {},
   "outputs": [
    {
     "data": {
      "text/plain": [
       "A101    273\n",
       "A103     16\n",
       "A102     11\n",
       "Name: other_debtors, dtype: int64"
      ]
     },
     "execution_count": 38,
     "metadata": {},
     "output_type": "execute_result"
    }
   ],
   "source": [
    "df['other_debtors'].value_counts()"
   ]
  },
  {
   "cell_type": "code",
   "execution_count": 39,
   "id": "8f96c878",
   "metadata": {},
   "outputs": [
    {
     "data": {
      "image/png": "[encoded data removed]",
      "text/plain": [
       "<Figure size 432x288 with 1 Axes>"
      ]
     },
     "metadata": {
      "needs_background": "light"
     },
     "output_type": "display_data"
    }
   ],
   "source": [
    "df['other_debtors'].value_counts().plot(kind=\"bar\")\n",
    "plt.show()"
   ]
  },
  {
   "cell_type": "markdown",
   "id": "2d5264ad",
   "metadata": {},
   "source": [
    "### present_residence "
   ]
  },
  {
   "cell_type": "code",
   "execution_count": 40,
   "id": "e16a2fdd",
   "metadata": {},
   "outputs": [
    {
     "data": {
      "text/plain": [
       "4.0    124\n",
       "2.0     89\n",
       "1.0     44\n",
       "3.0     43\n",
       "Name: present_residence, dtype: int64"
      ]
     },
     "execution_count": 40,
     "metadata": {},
     "output_type": "execute_result"
    }
   ],
   "source": [
    "df['present_residence'].value_counts()"
   ]
  },
  {
   "cell_type": "code",
   "execution_count": 41,
   "id": "998649be",
   "metadata": {},
   "outputs": [
    {
     "data": {
      "image/png": "[encoded data removed]",
      "text/plain": [
       "<Figure size 432x288 with 1 Axes>"
      ]
     },
     "metadata": {
      "needs_background": "light"
     },
     "output_type": "display_data"
    }
   ],
   "source": [
    "df['present_residence'].value_counts().plot(kind=\"bar\")\n",
    "plt.show()"
   ]
  },
  {
   "cell_type": "code",
   "execution_count": 42,
   "id": "4ba748cc",
   "metadata": {},
   "outputs": [
    {
     "data": {
      "text/plain": [
       "count    300.000000\n",
       "mean       2.823333\n",
       "std        1.126804\n",
       "min        1.000000\n",
       "25%        2.000000\n",
       "50%        3.000000\n",
       "75%        4.000000\n",
       "max        4.000000\n",
       "Name: present_residence, dtype: float64"
      ]
     },
     "execution_count": 42,
     "metadata": {},
     "output_type": "execute_result"
    }
   ],
   "source": [
    "df['present_residence'].describe()"
   ]
  },
  {
   "cell_type": "markdown",
   "id": "71e1634a",
   "metadata": {},
   "source": [
    "### property "
   ]
  },
  {
   "cell_type": "code",
   "execution_count": 43,
   "id": "259953d5",
   "metadata": {},
   "outputs": [
    {
     "data": {
      "text/plain": [
       "A123    92\n",
       "A121    89\n",
       "A122    68\n",
       "A124    51\n",
       "Name: property, dtype: int64"
      ]
     },
     "execution_count": 43,
     "metadata": {},
     "output_type": "execute_result"
    }
   ],
   "source": [
    "df['property'].value_counts()"
   ]
  },
  {
   "cell_type": "code",
   "execution_count": 44,
   "id": "a4e0b672",
   "metadata": {},
   "outputs": [
    {
     "data": {
      "image/png": "[encoded data removed]",
      "text/plain": [
       "<Figure size 432x288 with 1 Axes>"
      ]
     },
     "metadata": {
      "needs_background": "light"
     },
     "output_type": "display_data"
    }
   ],
   "source": [
    "df['property'].value_counts().plot(kind=\"bar\")\n",
    "plt.show()"
   ]
  },
  {
   "cell_type": "markdown",
   "id": "c1120dcf",
   "metadata": {},
   "source": [
    "### age "
   ]
  },
  {
   "cell_type": "code",
   "execution_count": 45,
   "id": "c6d63d26",
   "metadata": {},
   "outputs": [
    {
     "data": {
      "text/plain": [
       "27.0    20\n",
       "26.0    19\n",
       "24.0    15\n",
       "31.0    14\n",
       "28.0    13\n",
       "37.0    12\n",
       "23.0    12\n",
       "25.0    10\n",
       "35.0    10\n",
       "36.0    10\n",
       "30.0    10\n",
       "32.0    10\n",
       "34.0     9\n",
       "50.0     8\n",
       "40.0     8\n",
       "29.0     8\n",
       "54.0     8\n",
       "33.0     8\n",
       "42.0     7\n",
       "38.0     7\n",
       "46.0     6\n",
       "20.0     6\n",
       "22.0     6\n",
       "52.0     6\n",
       "47.0     5\n",
       "43.0     5\n",
       "45.0     5\n",
       "63.0     5\n",
       "39.0     4\n",
       "49.0     4\n",
       "48.0     4\n",
       "51.0     3\n",
       "61.0     3\n",
       "41.0     3\n",
       "55.0     2\n",
       "66.0     2\n",
       "65.0     2\n",
       "53.0     2\n",
       "21.0     1\n",
       "57.0     1\n",
       "19.0     1\n",
       "44.0     1\n",
       "75.0     1\n",
       "74.0     1\n",
       "59.0     1\n",
       "68.0     1\n",
       "64.0     1\n",
       "Name: age, dtype: int64"
      ]
     },
     "execution_count": 45,
     "metadata": {},
     "output_type": "execute_result"
    }
   ],
   "source": [
    "df['age'].value_counts()"
   ]
  },
  {
   "cell_type": "markdown",
   "id": "45eca8c3",
   "metadata": {},
   "source": [
    "W końcu coś ciekawego! Przyjrzyjmy się głębiej."
   ]
  },
  {
   "cell_type": "code",
   "execution_count": 46,
   "id": "bdf3cbd6",
   "metadata": {},
   "outputs": [
    {
     "data": {
      "text/plain": [
       "47"
      ]
     },
     "execution_count": 46,
     "metadata": {},
     "output_type": "execute_result"
    }
   ],
   "source": [
    "df['age'].value_counts().size"
   ]
  },
  {
   "cell_type": "markdown",
   "id": "ea365445",
   "metadata": {},
   "source": [
    "Aż 47 unikalnych wartości (na 300 kolumn)."
   ]
  },
  {
   "cell_type": "code",
   "execution_count": 47,
   "id": "afbbf2e0",
   "metadata": {},
   "outputs": [
    {
     "data": {
      "text/plain": [
       "count    300.000000\n",
       "mean      35.993333\n",
       "std       11.634625\n",
       "min       19.000000\n",
       "25%       27.000000\n",
       "50%       33.000000\n",
       "75%       43.000000\n",
       "max       75.000000\n",
       "Name: age, dtype: float64"
      ]
     },
     "execution_count": 47,
     "metadata": {},
     "output_type": "execute_result"
    }
   ],
   "source": [
    "df['age'].describe()"
   ]
  },
  {
   "cell_type": "code",
   "execution_count": 48,
   "id": "505d0f88",
   "metadata": {},
   "outputs": [
    {
     "data": {
      "image/png": "[encoded data removed]",
      "text/plain": [
       "<Figure size 432x288 with 1 Axes>"
      ]
     },
     "metadata": {
      "needs_background": "light"
     },
     "output_type": "display_data"
    }
   ],
   "source": [
    "sns.boxplot(df['age'])\n",
    "plt.show()"
   ]
  },
  {
   "cell_type": "markdown",
   "id": "e19a04a1",
   "metadata": {},
   "source": [
    "Sprawdźmy wartości odstające."
   ]
  },
  {
   "cell_type": "code",
   "execution_count": 49,
   "id": "5dc7c914",
   "metadata": {},
   "outputs": [
    {
     "name": "stdout",
     "output_type": "stream",
     "text": [
      "3.0\n",
      "67.0\n"
     ]
    }
   ],
   "source": [
    "IQR = 43 - 27\n",
    "print(27 - IQR * 1.5)\n",
    "print(43 + IQR * 1.5)"
   ]
  },
  {
   "cell_type": "code",
   "execution_count": 50,
   "id": "54627fdb",
   "metadata": {},
   "outputs": [
    {
     "data": {
      "image/png": "[encoded data removed]",
      "text/plain": [
       "<Figure size 432x288 with 1 Axes>"
      ]
     },
     "metadata": {
      "needs_background": "light"
     },
     "output_type": "display_data"
    }
   ],
   "source": [
    "sns.histplot(df['age'])\n",
    "plt.show()"
   ]
  },
  {
   "cell_type": "markdown",
   "id": "526476a2",
   "metadata": {},
   "source": [
    "### other_installment_plans"
   ]
  },
  {
   "cell_type": "code",
   "execution_count": 51,
   "id": "7a85124a",
   "metadata": {},
   "outputs": [
    {
     "data": {
      "text/plain": [
       "A143    256\n",
       "A141     31\n",
       "A142     13\n",
       "Name: other_installment_plans, dtype: int64"
      ]
     },
     "execution_count": 51,
     "metadata": {},
     "output_type": "execute_result"
    }
   ],
   "source": [
    "df['other_installment_plans'].value_counts()"
   ]
  },
  {
   "cell_type": "code",
   "execution_count": 52,
   "id": "0ca964f0",
   "metadata": {
    "scrolled": true
   },
   "outputs": [
    {
     "data": {
      "image/png": "[encoded data removed]",
      "text/plain": [
       "<Figure size 432x288 with 1 Axes>"
      ]
     },
     "metadata": {
      "needs_background": "light"
     },
     "output_type": "display_data"
    }
   ],
   "source": [
    "df['other_installment_plans'].value_counts().plot(kind=\"bar\")\n",
    "plt.show()"
   ]
  },
  {
   "cell_type": "markdown",
   "id": "3d148fbe",
   "metadata": {},
   "source": [
    "### housing"
   ]
  },
  {
   "cell_type": "code",
   "execution_count": 53,
   "id": "5c0c03a3",
   "metadata": {},
   "outputs": [
    {
     "data": {
      "text/plain": [
       "A152    220\n",
       "A151     41\n",
       "A153     39\n",
       "Name: housing, dtype: int64"
      ]
     },
     "execution_count": 53,
     "metadata": {},
     "output_type": "execute_result"
    }
   ],
   "source": [
    "df['housing'].value_counts()"
   ]
  },
  {
   "cell_type": "code",
   "execution_count": 54,
   "id": "3472d072",
   "metadata": {},
   "outputs": [
    {
     "data": {
      "image/png": "[encoded data removed]",
      "text/plain": [
       "<Figure size 432x288 with 1 Axes>"
      ]
     },
     "metadata": {
      "needs_background": "light"
     },
     "output_type": "display_data"
    }
   ],
   "source": [
    "df['housing'].value_counts().plot(kind=\"bar\")\n",
    "plt.show()"
   ]
  },
  {
   "cell_type": "markdown",
   "id": "cca3e2ba",
   "metadata": {},
   "source": [
    "### existing_credits"
   ]
  },
  {
   "cell_type": "code",
   "execution_count": 55,
   "id": "41a57b6a",
   "metadata": {},
   "outputs": [
    {
     "data": {
      "text/plain": [
       "1.0    203\n",
       "2.0     86\n",
       "3.0     10\n",
       "4.0      1\n",
       "Name: existing_credits, dtype: int64"
      ]
     },
     "execution_count": 55,
     "metadata": {},
     "output_type": "execute_result"
    }
   ],
   "source": [
    "df['existing_credits'].value_counts()"
   ]
  },
  {
   "cell_type": "code",
   "execution_count": 56,
   "id": "129c2d3b",
   "metadata": {},
   "outputs": [
    {
     "data": {
      "image/png": "[encoded data removed]",
      "text/plain": [
       "<Figure size 432x288 with 1 Axes>"
      ]
     },
     "metadata": {
      "needs_background": "light"
     },
     "output_type": "display_data"
    }
   ],
   "source": [
    "df['existing_credits'].value_counts().plot(kind=\"bar\")\n",
    "plt.show()"
   ]
  },
  {
   "cell_type": "code",
   "execution_count": 57,
   "id": "eda46908",
   "metadata": {},
   "outputs": [
    {
     "data": {
      "text/plain": [
       "count    300.000000\n",
       "mean       1.363333\n",
       "std        0.564847\n",
       "min        1.000000\n",
       "25%        1.000000\n",
       "50%        1.000000\n",
       "75%        2.000000\n",
       "max        4.000000\n",
       "Name: existing_credits, dtype: float64"
      ]
     },
     "execution_count": 57,
     "metadata": {},
     "output_type": "execute_result"
    }
   ],
   "source": [
    "df['existing_credits'].describe()"
   ]
  },
  {
   "cell_type": "markdown",
   "id": "fa768e02",
   "metadata": {},
   "source": [
    "### job"
   ]
  },
  {
   "cell_type": "code",
   "execution_count": 58,
   "id": "6429587b",
   "metadata": {},
   "outputs": [
    {
     "data": {
      "text/plain": [
       "A173    195\n",
       "A172     54\n",
       "A174     44\n",
       "A171      7\n",
       "Name: job, dtype: int64"
      ]
     },
     "execution_count": 58,
     "metadata": {},
     "output_type": "execute_result"
    }
   ],
   "source": [
    "df['job'].value_counts()"
   ]
  },
  {
   "cell_type": "code",
   "execution_count": 59,
   "id": "3dbad73d",
   "metadata": {},
   "outputs": [
    {
     "data": {
      "image/png": "[encoded data removed]",
      "text/plain": [
       "<Figure size 432x288 with 1 Axes>"
      ]
     },
     "metadata": {
      "needs_background": "light"
     },
     "output_type": "display_data"
    }
   ],
   "source": [
    "df['job'].value_counts().plot(kind=\"bar\")\n",
    "plt.show()"
   ]
  },
  {
   "cell_type": "markdown",
   "id": "31fea8d2",
   "metadata": {},
   "source": [
    "### dependents"
   ]
  },
  {
   "cell_type": "code",
   "execution_count": 60,
   "id": "57e19051",
   "metadata": {},
   "outputs": [
    {
     "data": {
      "text/plain": [
       "1.0    256\n",
       "2.0     44\n",
       "Name: dependents, dtype: int64"
      ]
     },
     "execution_count": 60,
     "metadata": {},
     "output_type": "execute_result"
    }
   ],
   "source": [
    "df['dependents'].value_counts()"
   ]
  },
  {
   "cell_type": "code",
   "execution_count": 61,
   "id": "5d008da2",
   "metadata": {},
   "outputs": [
    {
     "data": {
      "image/png": "[encoded data removed]",
      "text/plain": [
       "<Figure size 432x288 with 1 Axes>"
      ]
     },
     "metadata": {
      "needs_background": "light"
     },
     "output_type": "display_data"
    }
   ],
   "source": [
    "df['dependents'].value_counts().plot(kind=\"bar\")\n",
    "plt.show()"
   ]
  },
  {
   "cell_type": "code",
   "execution_count": 62,
   "id": "063616dc",
   "metadata": {},
   "outputs": [
    {
     "data": {
      "text/plain": [
       "count    300.000000\n",
       "mean       1.146667\n",
       "std        0.354364\n",
       "min        1.000000\n",
       "25%        1.000000\n",
       "50%        1.000000\n",
       "75%        1.000000\n",
       "max        2.000000\n",
       "Name: dependents, dtype: float64"
      ]
     },
     "execution_count": 62,
     "metadata": {},
     "output_type": "execute_result"
    }
   ],
   "source": [
    "df['dependents'].describe()"
   ]
  },
  {
   "cell_type": "markdown",
   "id": "408d2fa0",
   "metadata": {},
   "source": [
    "### telephone"
   ]
  },
  {
   "cell_type": "code",
   "execution_count": 63,
   "id": "d58682b3",
   "metadata": {},
   "outputs": [
    {
     "data": {
      "text/plain": [
       "A191    182\n",
       "A192    118\n",
       "Name: telephone, dtype: int64"
      ]
     },
     "execution_count": 63,
     "metadata": {},
     "output_type": "execute_result"
    }
   ],
   "source": [
    "df['telephone'].value_counts()"
   ]
  },
  {
   "cell_type": "code",
   "execution_count": 64,
   "id": "6292dd4f",
   "metadata": {},
   "outputs": [
    {
     "data": {
      "image/png": "[encoded data removed]",
      "text/plain": [
       "<Figure size 432x288 with 1 Axes>"
      ]
     },
     "metadata": {
      "needs_background": "light"
     },
     "output_type": "display_data"
    }
   ],
   "source": [
    "df['telephone'].value_counts().plot(kind=\"bar\")\n",
    "plt.show()"
   ]
  },
  {
   "cell_type": "markdown",
   "id": "ffb068a8",
   "metadata": {},
   "source": [
    "### foreign_worker"
   ]
  },
  {
   "cell_type": "code",
   "execution_count": 65,
   "id": "ca66d916",
   "metadata": {},
   "outputs": [
    {
     "data": {
      "text/plain": [
       "A201    287\n",
       "A202     13\n",
       "Name: foreign_worker, dtype: int64"
      ]
     },
     "execution_count": 65,
     "metadata": {},
     "output_type": "execute_result"
    }
   ],
   "source": [
    "df['foreign_worker'].value_counts()"
   ]
  },
  {
   "cell_type": "code",
   "execution_count": 66,
   "id": "96950d5f",
   "metadata": {},
   "outputs": [
    {
     "data": {
      "image/png": "[encoded data removed]",
      "text/plain": [
       "<Figure size 432x288 with 1 Axes>"
      ]
     },
     "metadata": {
      "needs_background": "light"
     },
     "output_type": "display_data"
    }
   ],
   "source": [
    "df['foreign_worker'].value_counts().plot(kind=\"bar\")\n",
    "plt.show()"
   ]
  },
  {
   "cell_type": "markdown",
   "id": "081ec4c8",
   "metadata": {},
   "source": [
    "### customer_type"
   ]
  },
  {
   "cell_type": "code",
   "execution_count": 67,
   "id": "bb1a6f0b",
   "metadata": {},
   "outputs": [
    {
     "data": {
      "text/plain": [
       "1.0    214\n",
       "2.0     86\n",
       "Name: customer_type, dtype: int64"
      ]
     },
     "execution_count": 67,
     "metadata": {},
     "output_type": "execute_result"
    }
   ],
   "source": [
    "df['customer_type'].value_counts()"
   ]
  },
  {
   "cell_type": "code",
   "execution_count": 68,
   "id": "61168750",
   "metadata": {},
   "outputs": [
    {
     "data": {
      "image/png": "[encoded data removed]",
      "text/plain": [
       "<Figure size 432x288 with 1 Axes>"
      ]
     },
     "metadata": {
      "needs_background": "light"
     },
     "output_type": "display_data"
    }
   ],
   "source": [
    "df['customer_type'].value_counts().plot(kind=\"bar\")\n",
    "plt.show()"
   ]
  },
  {
   "cell_type": "markdown",
   "id": "7426210f",
   "metadata": {},
   "source": [
    "## Analiza wielowymiarowa"
   ]
  },
  {
   "cell_type": "code",
   "execution_count": 69,
   "id": "677ff768",
   "metadata": {},
   "outputs": [
    {
     "data": {
      "text/plain": [
       "<function matplotlib.pyplot.show(close=None, block=None)>"
      ]
     },
     "execution_count": 69,
     "metadata": {},
     "output_type": "execute_result"
    },
    {
     "data": {
      "image/png": "[encoded data removed]",
      "text/plain": [
       "<Figure size 432x288 with 2 Axes>"
      ]
     },
     "metadata": {
      "needs_background": "light"
     },
     "output_type": "display_data"
    }
   ],
   "source": [
    "corr = df.corr()\n",
    "sns.heatmap(corr, annot= True)\n",
    "plt.show"
   ]
  },
  {
   "cell_type": "markdown",
   "id": "4c91c19e",
   "metadata": {},
   "source": [
    "Rzeczywiście najbardziej zauwazalna korelacja zmiennych ciągłych występuje pomiędzy wartościami z kolumny duration, a z kolumny credit_amount"
   ]
  },
  {
   "cell_type": "code",
   "execution_count": 70,
   "id": "a649601d",
   "metadata": {},
   "outputs": [
    {
     "data": {
      "image/png": "[encoded data removed]",
      "text/plain": [
       "<Figure size 1008x504 with 1 Axes>"
      ]
     },
     "metadata": {
      "needs_background": "light"
     },
     "output_type": "display_data"
    }
   ],
   "source": [
    "sns.lmplot( x='duration', y='credit_amount', data=df, size=7, aspect=2)\n",
    "plt.show()"
   ]
  },
  {
   "cell_type": "markdown",
   "id": "212f6ede",
   "metadata": {},
   "source": [
    "Zauwazamy wzrost kwoty, wraz w wzrostem długości kredytu. Równiez pojawiają się szczególne przypadki jak kredyt na wysoką kwotę z bardzo krótkim okresem spłaty. Ładnie na tym wykresie widać skoki wartości duration."
   ]
  },
  {
   "cell_type": "markdown",
   "id": "105e1c8b",
   "metadata": {},
   "source": [
    "Druga największa korelacja zachodzi pomiędzy age i presenet_residence."
   ]
  },
  {
   "cell_type": "code",
   "execution_count": 71,
   "id": "088feb93",
   "metadata": {},
   "outputs": [
    {
     "data": {
      "image/png": "[encoded data removed]",
      "text/plain": [
       "<Figure size 432x288 with 1 Axes>"
      ]
     },
     "metadata": {
      "needs_background": "light"
     },
     "output_type": "display_data"
    }
   ],
   "source": [
    "sns.violinplot(df[\"present_residence\"],df[\"age\"])\n",
    "plt.show()"
   ]
  },
  {
   "cell_type": "markdown",
   "id": "87227a4d",
   "metadata": {},
   "source": [
    "Sprawdźmy jak poszczególne zmienne ciągłe wpływają na to czy klient był uznany jaki dobry czy zły"
   ]
  },
  {
   "cell_type": "code",
   "execution_count": 72,
   "id": "5b831921",
   "metadata": {},
   "outputs": [
    {
     "data": {
      "image/png": "[encoded data removed]",
      "text/plain": [
       "<Figure size 1800x720 with 8 Axes>"
      ]
     },
     "metadata": {
      "needs_background": "light"
     },
     "output_type": "display_data"
    }
   ],
   "source": [
    "fig, axs = plt.subplots(nrows=2,ncols=4, figsize = (25,10))\n",
    "sns.violinplot(df['customer_type'], df['duration'],ax=axs[0,0])\n",
    "sns.violinplot(df['customer_type'], df['credit_amount'],ax=axs[0,1])\n",
    "sns.violinplot(df['customer_type'], df['installment_rate'], ax=axs[0,2])\n",
    "sns.violinplot(df['customer_type'], df['present_residence'], ax=axs[0,3])\n",
    "sns.violinplot(df['customer_type'], df['age'], ax=axs[1,0])\n",
    "sns.violinplot(df['customer_type'], df['existing_credits'], ax=axs[1,1])\n",
    "sns.violinplot(df['customer_type'], df['dependents'], ax=axs[1,2])\n",
    "plt.show()"
   ]
  },
  {
   "cell_type": "markdown",
   "id": "d4674a2b",
   "metadata": {},
   "source": [
    "Rozkłady zmiennych są bardzo podobne dla dwóch kategorii. Na niektórych widać małe róznice. \n",
    "Większa część klientów uznanych za złych brało kredyt na dłuzszy czas w porównaniu do dobrych klientów."
   ]
  },
  {
   "cell_type": "code",
   "execution_count": 73,
   "id": "b162018e",
   "metadata": {},
   "outputs": [
    {
     "data": {
      "text/plain": [
       "1.0    214\n",
       "2.0     86\n",
       "Name: customer_type, dtype: int64"
      ]
     },
     "execution_count": 73,
     "metadata": {},
     "output_type": "execute_result"
    }
   ],
   "source": [
    "df['customer_type'].value_counts()"
   ]
  },
  {
   "cell_type": "markdown",
   "id": "f28528fd",
   "metadata": {},
   "source": [
    "Dobrych klientów jest ponad 2 razy więcej.\n",
    "Zeby zobaczyć czy jakieś dyskretne kolumny mają powiązania z klasyfikacją klienta mozemy podzielić liczbę w kazdej kategorii ilość odpowiednio wszystkich dobrych i złych klientów.\n",
    "Zamiast pokazywać porównanie liczności, plotujemy porównanie jakim procentem wszystkich goodów lub badów jest dana kategoria."
   ]
  },
  {
   "cell_type": "code",
   "execution_count": 74,
   "id": "b87c2c5b",
   "metadata": {},
   "outputs": [
    {
     "name": "stdout",
     "output_type": "stream",
     "text": [
      "<class 'pandas.core.frame.DataFrame'>\n",
      "RangeIndex: 8 entries, 0 to 7\n",
      "Data columns (total 3 columns):\n",
      " #   Column         Non-Null Count  Dtype  \n",
      "---  ------         --------------  -----  \n",
      " 0   property       8 non-null      object \n",
      " 1   customer_type  8 non-null      float64\n",
      " 2   size           8 non-null      int64  \n",
      "dtypes: float64(1), int64(1), object(1)\n",
      "memory usage: 320.0+ bytes\n"
     ]
    }
   ],
   "source": [
    "df_pom = df.groupby(['property', 'customer_type'], as_index=False).size()\n",
    "df_pom.info()"
   ]
  },
  {
   "cell_type": "code",
   "execution_count": 75,
   "id": "198e75e3",
   "metadata": {},
   "outputs": [
    {
     "data": {
      "text/html": [
       "<div>\n",
       "<style scoped>\n",
       "    .dataframe tbody tr th:only-of-type {\n",
       "        vertical-align: middle;\n",
       "    }\n",
       "\n",
       "    .dataframe tbody tr th {\n",
       "        vertical-align: top;\n",
       "    }\n",
       "\n",
       "    .dataframe thead th {\n",
       "        text-align: right;\n",
       "    }\n",
       "</style>\n",
       "<table border=\"1\" class=\"dataframe\">\n",
       "  <thead>\n",
       "    <tr style=\"text-align: right;\">\n",
       "      <th></th>\n",
       "      <th>property</th>\n",
       "      <th>customer_type</th>\n",
       "      <th>size</th>\n",
       "    </tr>\n",
       "  </thead>\n",
       "  <tbody>\n",
       "    <tr>\n",
       "      <th>0</th>\n",
       "      <td>A121</td>\n",
       "      <td>1.0</td>\n",
       "      <td>69</td>\n",
       "    </tr>\n",
       "    <tr>\n",
       "      <th>1</th>\n",
       "      <td>A121</td>\n",
       "      <td>2.0</td>\n",
       "      <td>20</td>\n",
       "    </tr>\n",
       "    <tr>\n",
       "      <th>2</th>\n",
       "      <td>A122</td>\n",
       "      <td>1.0</td>\n",
       "      <td>46</td>\n",
       "    </tr>\n",
       "    <tr>\n",
       "      <th>3</th>\n",
       "      <td>A122</td>\n",
       "      <td>2.0</td>\n",
       "      <td>22</td>\n",
       "    </tr>\n",
       "    <tr>\n",
       "      <th>4</th>\n",
       "      <td>A123</td>\n",
       "      <td>1.0</td>\n",
       "      <td>69</td>\n",
       "    </tr>\n",
       "    <tr>\n",
       "      <th>5</th>\n",
       "      <td>A123</td>\n",
       "      <td>2.0</td>\n",
       "      <td>23</td>\n",
       "    </tr>\n",
       "    <tr>\n",
       "      <th>6</th>\n",
       "      <td>A124</td>\n",
       "      <td>1.0</td>\n",
       "      <td>30</td>\n",
       "    </tr>\n",
       "    <tr>\n",
       "      <th>7</th>\n",
       "      <td>A124</td>\n",
       "      <td>2.0</td>\n",
       "      <td>21</td>\n",
       "    </tr>\n",
       "  </tbody>\n",
       "</table>\n",
       "</div>"
      ],
      "text/plain": [
       "  property  customer_type  size\n",
       "0     A121            1.0    69\n",
       "1     A121            2.0    20\n",
       "2     A122            1.0    46\n",
       "3     A122            2.0    22\n",
       "4     A123            1.0    69\n",
       "5     A123            2.0    23\n",
       "6     A124            1.0    30\n",
       "7     A124            2.0    21"
      ]
     },
     "execution_count": 75,
     "metadata": {},
     "output_type": "execute_result"
    }
   ],
   "source": [
    "df_pom"
   ]
  },
  {
   "cell_type": "code",
   "execution_count": 76,
   "id": "0c630cb0",
   "metadata": {},
   "outputs": [
    {
     "data": {
      "image/png": "[encoded data removed]",
      "text/plain": [
       "<Figure size 1800x1440 with 9 Axes>"
      ]
     },
     "metadata": {
      "needs_background": "light"
     },
     "output_type": "display_data"
    }
   ],
   "source": [
    "fig, axs = plt.subplots(nrows=3,ncols=3, figsize = (25,20))\n",
    "df_pom = df.groupby(['checking_account_status', 'customer_type'], as_index=False).size()\n",
    "df_pom.loc[df_pom['customer_type'] == 1.0, 'size'] = df_pom['size']/214\n",
    "df_pom.loc[df_pom['customer_type'] == 2.0, 'size'] = df_pom['size']/86\n",
    "sns.barplot(data=df_pom, x = 'checking_account_status', y = 'size', hue = 'customer_type',ax=axs[0,0])\n",
    "\n",
    "df_pom = df.groupby(['credit_history', 'customer_type'], as_index=False).size()\n",
    "df_pom.loc[df_pom['customer_type'] == 1.0, 'size'] = df_pom['size']/214\n",
    "df_pom.loc[df_pom['customer_type'] == 2.0, 'size'] = df_pom['size']/86\n",
    "sns.barplot(data=df_pom, x = 'credit_history', y = 'size', hue = 'customer_type', ax=axs[0,1])\n",
    "\n",
    "df_pom = df.groupby(['purpose', 'customer_type'], as_index=False).size()\n",
    "df_pom.loc[df_pom['customer_type'] == 1.0, 'size'] = df_pom['size']/214\n",
    "df_pom.loc[df_pom['customer_type'] == 2.0, 'size'] = df_pom['size']/86\n",
    "sns.barplot(data=df_pom, x = 'purpose', y = 'size', hue = 'customer_type', ax=axs[0,2])\n",
    "\n",
    "df_pom = df.groupby(['savings', 'customer_type'], as_index=False).size()\n",
    "df_pom.loc[df_pom['customer_type'] == 1.0, 'size'] = df_pom['size']/214\n",
    "df_pom.loc[df_pom['customer_type'] == 2.0, 'size'] = df_pom['size']/86\n",
    "sns.barplot(data=df_pom, x = 'savings', y = 'size', hue = 'customer_type',ax=axs[1,0])\n",
    "\n",
    "df_pom = df.groupby(['present_employment', 'customer_type'], as_index=False).size()\n",
    "df_pom.loc[df_pom['customer_type'] == 1.0, 'size'] = df_pom['size']/214\n",
    "df_pom.loc[df_pom['customer_type'] == 2.0, 'size'] = df_pom['size']/86\n",
    "sns.barplot(data=df_pom, x = 'present_employment', y = 'size', hue = 'customer_type', ax=axs[1,1])\n",
    "\n",
    "df_pom = df.groupby(['personal', 'customer_type'], as_index=False).size()\n",
    "df_pom.loc[df_pom['customer_type'] == 1.0, 'size'] = df_pom['size']/214\n",
    "df_pom.loc[df_pom['customer_type'] == 2.0, 'size'] = df_pom['size']/86\n",
    "sns.barplot(data=df_pom, x = 'personal', y = 'size', hue = 'customer_type', ax=axs[1,2])\n",
    "\n",
    "df_pom = df.groupby(['other_debtors', 'customer_type'], as_index=False).size()\n",
    "df_pom.loc[df_pom['customer_type'] == 1.0, 'size'] = df_pom['size']/214\n",
    "df_pom.loc[df_pom['customer_type'] == 2.0, 'size'] = df_pom['size']/86\n",
    "sns.barplot(data=df_pom, x = 'other_debtors', y = 'size', hue = 'customer_type', ax=axs[2,0])\n",
    "\n",
    "df_pom = df.groupby(['property', 'customer_type'], as_index=False).size()\n",
    "df_pom.loc[df_pom['customer_type'] == 1.0, 'size'] = df_pom['size']/214\n",
    "df_pom.loc[df_pom['customer_type'] == 2.0, 'size'] = df_pom['size']/86\n",
    "sns.barplot(data=df_pom, x = 'property', y = 'size', hue = 'customer_type', ax=axs[2,1])\n",
    "\n",
    "df_pom = df.groupby(['other_installment_plans', 'customer_type'], as_index=False).size()\n",
    "df_pom.loc[df_pom['customer_type'] == 1.0, 'size'] = df_pom['size']/214\n",
    "df_pom.loc[df_pom['customer_type'] == 2.0, 'size'] = df_pom['size']/86\n",
    "sns.barplot(data=df_pom, x = 'other_installment_plans', y = 'size', hue = 'customer_type', ax=axs[2,2])\n",
    "\n",
    "\n",
    "plt.show()"
   ]
  },
  {
   "cell_type": "markdown",
   "id": "e6c17595",
   "metadata": {},
   "source": [
    "Wiele słupków układa się bardzo podobnie. Wyrózniają się słupki dotyczące kolumny checking_account_status, gdzie blisko 50% wszystkich\n",
    "bad klientów ma kategorie A11, podczas gdy goodów ma ją tylko 20% oraz gdzie prawie 50% goodów ma kategorie A14, a badów ma ją tylko 10%.\n",
    "\n",
    "Z credit_history widzimy, ze 10% badów nigdy wcześniej nie miała kredytu lub spłaciła całkowicie w innym banku.\n",
    "Znacznie większa część goodów niz badów ma równiez istniejący kredyt w innym banku."
   ]
  },
  {
   "cell_type": "markdown",
   "id": "56fa302b",
   "metadata": {},
   "source": [
    "## Analiza pandas-profiling"
   ]
  },
  {
   "cell_type": "code",
   "execution_count": 77,
   "id": "b27492f6",
   "metadata": {},
   "outputs": [
    {
     "name": "stdout",
     "output_type": "stream",
     "text": [
      "Requirement already satisfied: pandas-profiling in /hdd/anaconda3/lib/python3.8/site-packages (3.1.0)\n",
      "Requirement already satisfied: phik>=0.11.1 in /hdd/anaconda3/lib/python3.8/site-packages (from pandas-profiling) (0.12.0)\n",
      "Requirement already satisfied: visions[type_image_path]==0.7.4 in /hdd/anaconda3/lib/python3.8/site-packages (from pandas-profiling) (0.7.4)\n",
      "Requirement already satisfied: PyYAML>=5.0.0 in /hdd/anaconda3/lib/python3.8/site-packages (from pandas-profiling) (6.0)\n",
      "Requirement already satisfied: tqdm>=4.48.2 in /home/jan/.local/lib/python3.8/site-packages (from pandas-profiling) (4.63.0)\n",
      "Requirement already satisfied: missingno>=0.4.2 in /hdd/anaconda3/lib/python3.8/site-packages (from pandas-profiling) (0.5.1)\n",
      "Requirement already satisfied: tangled-up-in-unicode==0.1.0 in /hdd/anaconda3/lib/python3.8/site-packages (from pandas-profiling) (0.1.0)\n",
      "Requirement already satisfied: jinja2>=2.11.1 in /hdd/anaconda3/lib/python3.8/site-packages (from pandas-profiling) (2.11.3)\n",
      "Requirement already satisfied: scipy>=1.4.1 in /hdd/anaconda3/lib/python3.8/site-packages (from pandas-profiling) (1.7.3)\n",
      "Requirement already satisfied: requests>=2.24.0 in /hdd/anaconda3/lib/python3.8/site-packages (from pandas-profiling) (2.27.1)\n",
      "Requirement already satisfied: seaborn>=0.10.1 in /hdd/anaconda3/lib/python3.8/site-packages (from pandas-profiling) (0.11.2)\n",
      "Requirement already satisfied: multimethod>=1.4 in /hdd/anaconda3/lib/python3.8/site-packages (from pandas-profiling) (1.7)\n",
      "Requirement already satisfied: pydantic>=1.8.1 in /home/jan/.local/lib/python3.8/site-packages (from pandas-profiling) (1.8.2)\n",
      "Requirement already satisfied: numpy>=1.16.0 in /hdd/anaconda3/lib/python3.8/site-packages (from pandas-profiling) (1.20.3)\n",
      "Requirement already satisfied: matplotlib>=3.2.0 in /hdd/anaconda3/lib/python3.8/site-packages (from pandas-profiling) (3.5.1)\n",
      "Requirement already satisfied: joblib~=1.0.1 in /hdd/anaconda3/lib/python3.8/site-packages (from pandas-profiling) (1.0.1)\n",
      "Requirement already satisfied: htmlmin>=0.1.12 in /hdd/anaconda3/lib/python3.8/site-packages (from pandas-profiling) (0.1.12)\n",
      "Requirement already satisfied: pandas!=1.0.0,!=1.0.1,!=1.0.2,!=1.1.0,>=0.25.3 in /hdd/anaconda3/lib/python3.8/site-packages (from pandas-profiling) (1.4.1)\n",
      "Requirement already satisfied: markupsafe~=2.0.1 in /hdd/anaconda3/lib/python3.8/site-packages (from pandas-profiling) (2.0.1)\n",
      "Requirement already satisfied: networkx>=2.4 in /hdd/anaconda3/lib/python3.8/site-packages (from visions[type_image_path]==0.7.4->pandas-profiling) (2.6.3)\n",
      "Requirement already satisfied: attrs>=19.3.0 in /hdd/anaconda3/lib/python3.8/site-packages (from visions[type_image_path]==0.7.4->pandas-profiling) (21.4.0)\n",
      "Requirement already satisfied: imagehash in /hdd/anaconda3/lib/python3.8/site-packages (from visions[type_image_path]==0.7.4->pandas-profiling) (4.2.1)\n",
      "Requirement already satisfied: Pillow in /hdd/anaconda3/lib/python3.8/site-packages (from visions[type_image_path]==0.7.4->pandas-profiling) (9.0.1)\n",
      "Requirement already satisfied: python-dateutil>=2.7 in /hdd/anaconda3/lib/python3.8/site-packages (from matplotlib>=3.2.0->pandas-profiling) (2.8.2)\n",
      "Requirement already satisfied: packaging>=20.0 in /hdd/anaconda3/lib/python3.8/site-packages (from matplotlib>=3.2.0->pandas-profiling) (21.3)\n",
      "Requirement already satisfied: fonttools>=4.22.0 in /hdd/anaconda3/lib/python3.8/site-packages (from matplotlib>=3.2.0->pandas-profiling) (4.25.0)\n",
      "Requirement already satisfied: kiwisolver>=1.0.1 in /hdd/anaconda3/lib/python3.8/site-packages (from matplotlib>=3.2.0->pandas-profiling) (1.3.2)\n",
      "Requirement already satisfied: cycler>=0.10 in /hdd/anaconda3/lib/python3.8/site-packages (from matplotlib>=3.2.0->pandas-profiling) (0.11.0)\n",
      "Requirement already satisfied: pyparsing>=2.2.1 in /hdd/anaconda3/lib/python3.8/site-packages (from matplotlib>=3.2.0->pandas-profiling) (3.0.4)\n",
      "Requirement already satisfied: pytz>=2020.1 in /hdd/anaconda3/lib/python3.8/site-packages (from pandas!=1.0.0,!=1.0.1,!=1.0.2,!=1.1.0,>=0.25.3->pandas-profiling) (2021.3)\n",
      "Requirement already satisfied: typing-extensions>=3.7.4.3 in /home/jan/.local/lib/python3.8/site-packages (from pydantic>=1.8.1->pandas-profiling) (4.1.1)\n",
      "Requirement already satisfied: certifi>=2017.4.17 in /hdd/anaconda3/lib/python3.8/site-packages (from requests>=2.24.0->pandas-profiling) (2021.10.8)\n",
      "Requirement already satisfied: urllib3<1.27,>=1.21.1 in /hdd/anaconda3/lib/python3.8/site-packages (from requests>=2.24.0->pandas-profiling) (1.26.8)\n",
      "Requirement already satisfied: charset-normalizer~=2.0.0 in /hdd/anaconda3/lib/python3.8/site-packages (from requests>=2.24.0->pandas-profiling) (2.0.4)\n",
      "Requirement already satisfied: idna<4,>=2.5 in /hdd/anaconda3/lib/python3.8/site-packages (from requests>=2.24.0->pandas-profiling) (2.10)\n",
      "Requirement already satisfied: six>=1.5 in /hdd/anaconda3/lib/python3.8/site-packages (from python-dateutil>=2.7->matplotlib>=3.2.0->pandas-profiling) (1.16.0)\n",
      "Requirement already satisfied: PyWavelets in /hdd/anaconda3/lib/python3.8/site-packages (from imagehash->visions[type_image_path]==0.7.4->pandas-profiling) (1.1.1)\n"
     ]
    }
   ],
   "source": [
    "import sys\n",
    "!{sys.executable} -m pip install pandas-profiling\n",
    "from pandas_profiling import ProfileReport"
   ]
  },
  {
   "cell_type": "code",
   "execution_count": 78,
   "id": "e63abcba",
   "metadata": {},
   "outputs": [
    {
     "data": {
      "application/vnd.jupyter.widget-view+json": {
       "model_id": "fab4a9b796af4078a928a354afb768e3",
       "version_major": 2,
       "version_minor": 0
      },
      "text/plain": [
       "Summarize dataset:   0%|          | 0/36 [00:00<?, ?it/s]"
      ]
     },
     "metadata": {},
     "output_type": "display_data"
    },
    {
     "data": {
      "application/vnd.jupyter.widget-view+json": {
       "model_id": "839f8473c4224ad691f2d411bce4137a",
       "version_major": 2,
       "version_minor": 0
      },
      "text/plain": [
       "Generate report structure:   0%|          | 0/1 [00:00<?, ?it/s]"
      ]
     },
     "metadata": {},
     "output_type": "display_data"
    },
    {
     "data": {
      "application/vnd.jupyter.widget-view+json": {
       "model_id": "df779d3e687c42178c1ec69204ad7ad3",
       "version_major": 2,
       "version_minor": 0
      },
      "text/plain": [
       "Render HTML:   0%|          | 0/1 [00:00<?, ?it/s]"
      ]
     },
     "metadata": {},
     "output_type": "display_data"
    },
    {
     "data": {
      "application/vnd.jupyter.widget-view+json": {
       "model_id": "12f46d3bc5e14e13961d702e2f4ce5eb",
       "version_major": 2,
       "version_minor": 0
      },
      "text/plain": [
       "Export report to file:   0%|          | 0/1 [00:00<?, ?it/s]"
      ]
     },
     "metadata": {},
     "output_type": "display_data"
    }
   ],
   "source": [
    "profile = ProfileReport(df, title=\"Pandasy Profile Report\")\n",
    "profile.to_file(\"report.html\")"
   ]
  },
  {
   "cell_type": "markdown",
   "id": "cc7fce76",
   "metadata": {},
   "source": [
    "Report został wygenerowany. Możemy go podziwiać pod nazwą \"report.html\". Przyjrzyjmy się informacjom, które nam dostarcza. Użyty przez nas pandas-profiling z grubsza zrobił to samo co my powyżej, tylko że automatycznie i w czasie kilku sekund. To duży plus, szczególnie przy analizie zbiorów danych z dużą ilością kolumn - wszystkie rutynowe operacje zostały wykonane w mgnieniu oka - rozkłady, macierz korelacji, podstawowe dane opisowe odnoście konkretnych zmiennych, kolumn, wierszy - między innymi szczegółowe infomacje o brakujących rekordach i \"problematycznych\" wartościach. Jest to więc bardzo przydatne narzędzie, jednak nie może zastąpić szczegółowej ręcznej analizy. W reporcie nie znajdziemy szczegółowych danych statystycznych dotyczących chociażby wartości odstających, jesteśmy ponadto ograniczeni przez autorów biblioteki do stosowania zaproponowanych przez nich wykresów i metod, customizacja reportu jest możliwa, ale trudna. Jest to więc bardzo dobre narzędzie do wstępnej analizy (jest ona wykonywana w kilka sekund), jednak nie może zastąpić on szczegółowej analizy. Warto zaznaczyć też, że narzędzia fajnie jest używać już na odpowiednio przygotowanej ramce danych, bo pandas-profiling wykonuje tylko EDA - nie zamienia żadnych wartości \"NaN\" czy NULL wedle matematycznych wzorców, nie zamienia danych kategorycznych na numeryczne itp."
   ]
  },
  {
   "cell_type": "markdown",
   "id": "8ce12507",
   "metadata": {},
   "source": [
    "# Podsumowanie"
   ]
  },
  {
   "cell_type": "markdown",
   "id": "49b87e5c",
   "metadata": {},
   "source": [
    "Analiza EDA przygotowana przez zespół, który był przez nas walidowany, jest dość obszerna i w naszym odczuciu - całkowicie poprawna. Wnioski, do których dochodziliśmy, były kompletnie analogiczne. Mimo, że pracowaliśmy na zupełnie innych próbkach danych, rozkłady, korelacje, wykresy otrzymywane przez nas były prawie identyczne. Oczywiście pojawiło się trochę błędów kosmetycznych, takich jak pokazanie wykresu zmiennej 'credit_history' zamiast 'savings' w analizie jednowymiarowej czy może Warningi produkowane w Outpucie przy niektórych Inputach (chociaż tu problem może być zupełnie innego rodzaju - możemy używać innych wersji pakietów i bibliotek), nie wpływają one jednak na ogólnie bardzo wysoką jakość analizowanej przez nas pracy."
   ]
  }
 ],
 "metadata": {
  "kernelspec": {
   "display_name": "Python 3",
   "language": "python",
   "name": "python3"
  },
  "language_info": {
   "codemirror_mode": {
    "name": "ipython",
    "version": 3
   },
   "file_extension": ".py",
   "mimetype": "text/x-python",
   "name": "python",
   "nbconvert_exporter": "python",
   "pygments_lexer": "ipython3",
   "version": "3.8.12"
  }
 },
 "nbformat": 4,
 "nbformat_minor": 5
}
